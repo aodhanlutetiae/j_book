{
 "cells": [
  {
   "cell_type": "markdown",
   "metadata": {},
   "source": [
    "## UK police API\n",
    "\n",
    "> source: https://data.police.uk/docs/"
   ]
  },
  {
   "cell_type": "code",
   "execution_count": 48,
   "metadata": {},
   "outputs": [],
   "source": [
    "import requests\n",
    "\n",
    "import pandas as pd\n"
   ]
  },
  {
   "cell_type": "markdown",
   "metadata": {},
   "source": [
    "### parameters\n",
    "\n",
    "- Forces\n",
    "- Specific force\n",
    "- Force senior officers\n",
    "\n",
    "- Street level crimes\n",
    "- Street level outcomes\n",
    "- Crimes at location\n",
    "- Crimes with no location\n",
    "- Crime categories\n",
    "- Last updated\n",
    "- Outcomes for a specific crime\n",
    "\n",
    "- Neighbourhoods\n",
    "- Specific neighbourhood\n",
    "- Neighbourhood boundary\n",
    "- Neighbourhood team\n",
    "- Neighbourhood events\n",
    "- Neighbourhood priorities\n",
    "- Locate neighbourhood\n",
    "\n",
    "- Stop and searches by area\n",
    "\n",
    "- Stop and searches by location\n",
    "- Stop and searches with no location\n",
    "- Stop and searches by force\n"
   ]
  },
  {
   "cell_type": "markdown",
   "metadata": {},
   "source": [
    "### Availability last 36 months"
   ]
  },
  {
   "cell_type": "code",
   "execution_count": 38,
   "metadata": {},
   "outputs": [
    {
     "data": {
      "text/plain": [
       "<Response [200]>"
      ]
     },
     "execution_count": 38,
     "metadata": {},
     "output_type": "execute_result"
    }
   ],
   "source": [
    "# returns list of all available datasets\n",
    "\n",
    "url = 'https://data.police.uk/api/crimes-street-dates'\n",
    "req = requests.get(url)\n",
    "req"
   ]
  },
  {
   "cell_type": "code",
   "execution_count": 39,
   "metadata": {},
   "outputs": [
    {
     "name": "stdout",
     "output_type": "stream",
     "text": [
      "2018-06\n",
      "2021-05\n"
     ]
    }
   ],
   "source": [
    "# data from earliest month\n",
    "print(req.json()[35]['date'])\n",
    "\n",
    "# data from latest month\n",
    "print(req.json()[0]['date'])"
   ]
  },
  {
   "cell_type": "markdown",
   "metadata": {},
   "source": [
    "### Stop and search"
   ]
  },
  {
   "cell_type": "code",
   "execution_count": 40,
   "metadata": {},
   "outputs": [
    {
     "name": "stdout",
     "output_type": "stream",
     "text": [
      "https://data.police.uk/api/stops-street?lat=52.629729&lng=-1.131592&date=2021-04\n"
     ]
    },
    {
     "data": {
      "text/plain": [
       "<Response [200]>"
      ]
     },
     "execution_count": 40,
     "metadata": {},
     "output_type": "execute_result"
    }
   ],
   "source": [
    "# send query via variables and f-string\n",
    "\n",
    "endpoint = 'https://data.police.uk/api'\n",
    "method = 'stops-street'\n",
    "lat = \"52.629729\"\n",
    "long = \"-1.131592\"\n",
    "month = \"2021-04\"\n",
    "\n",
    "query = f'{endpoint}/{method}?lat={lat}&lng={long}&date={month}'\n",
    "print(query)\n",
    "\n",
    "req = requests.get(query)\n",
    "req"
   ]
  },
  {
   "cell_type": "code",
   "execution_count": 41,
   "metadata": {},
   "outputs": [
    {
     "data": {
      "text/plain": [
       "{'age_range': 'over 34',\n",
       " 'outcome': 'A no further action disposal',\n",
       " 'involved_person': True,\n",
       " 'self_defined_ethnicity': 'Other ethnic group - Not stated',\n",
       " 'gender': 'Male',\n",
       " 'legislation': 'Police and Criminal Evidence Act 1984 (section 1)',\n",
       " 'outcome_linked_to_object_of_search': None,\n",
       " 'datetime': '2021-04-07T19:55:00+00:00',\n",
       " 'removal_of_more_than_outer_clothing': False,\n",
       " 'outcome_object': {'id': 'bu-no-further-action',\n",
       "  'name': 'A no further action disposal'},\n",
       " 'location': {'latitude': '52.626988',\n",
       "  'street': {'id': 882307,\n",
       "   'name': 'On or near Further/Higher Educational Building'},\n",
       "  'longitude': '-1.123532'},\n",
       " 'operation': None,\n",
       " 'officer_defined_ethnicity': 'Asian',\n",
       " 'type': 'Person and Vehicle search',\n",
       " 'operation_name': None,\n",
       " 'object_of_search': 'Stolen goods'}"
      ]
     },
     "execution_count": 41,
     "metadata": {},
     "output_type": "execute_result"
    }
   ],
   "source": [
    "req.json()[0]"
   ]
  },
  {
   "cell_type": "code",
   "execution_count": 42,
   "metadata": {},
   "outputs": [
    {
     "data": {
      "text/plain": [
       "<Response [200]>"
      ]
     },
     "execution_count": 42,
     "metadata": {},
     "output_type": "execute_result"
    }
   ],
   "source": [
    "# query via assembled url (bicycle theft, April 2021)\n",
    "\n",
    "epoint = 'https://data.police.uk/api/crimes-street/bicycle-theft?lat=51.476369992679096&lng=-3.1781098361443667&date=2021-04'\n",
    "\n",
    "req = requests.get(epoint)\n",
    "req\n"
   ]
  },
  {
   "cell_type": "code",
   "execution_count": 43,
   "metadata": {},
   "outputs": [
    {
     "data": {
      "text/plain": [
       "34"
      ]
     },
     "execution_count": 43,
     "metadata": {},
     "output_type": "execute_result"
    }
   ],
   "source": [
    "response = req.json()\n",
    "len(response)"
   ]
  },
  {
   "cell_type": "code",
   "execution_count": 44,
   "metadata": {},
   "outputs": [
    {
     "data": {
      "text/plain": [
       "{'category': 'bicycle-theft',\n",
       " 'location_type': 'Force',\n",
       " 'location': {'latitude': '51.485384',\n",
       "  'street': {'id': 1081176, 'name': 'On or near The Walk'},\n",
       "  'longitude': '-3.169447'},\n",
       " 'context': '',\n",
       " 'outcome_status': {'category': 'Investigation complete; no suspect identified',\n",
       "  'date': '2021-04'},\n",
       " 'persistent_id': 'b690e717ff1e48bd1b15ad8055a648c62d3ba5956a25a70fdc4f116218719902',\n",
       " 'id': 92090274,\n",
       " 'location_subtype': '',\n",
       " 'month': '2021-04'}"
      ]
     },
     "execution_count": 44,
     "metadata": {},
     "output_type": "execute_result"
    }
   ],
   "source": [
    "response[0]"
   ]
  },
  {
   "cell_type": "markdown",
   "metadata": {},
   "source": [
    "### 'params' as arguments dict"
   ]
  },
  {
   "cell_type": "code",
   "execution_count": 45,
   "metadata": {},
   "outputs": [
    {
     "data": {
      "text/plain": [
       "<Response [200]>"
      ]
     },
     "execution_count": 45,
     "metadata": {},
     "output_type": "execute_result"
    }
   ],
   "source": [
    "\n",
    "endpoint = 'https://data.police.uk/api/stops-street?'\n",
    "parameters = {'lat':\"52.629729\", 'lng':\"-1.131592\", 'date':\"2020-06\"}\n",
    "\n",
    "req = requests.get(endpoint, params = parameters)\n",
    "req"
   ]
  },
  {
   "cell_type": "code",
   "execution_count": 46,
   "metadata": {},
   "outputs": [],
   "source": [
    "response = req.json()"
   ]
  },
  {
   "cell_type": "code",
   "execution_count": 47,
   "metadata": {},
   "outputs": [
    {
     "data": {
      "text/plain": [
       "{'age_range': 'over 34',\n",
       " 'outcome': 'A no further action disposal',\n",
       " 'involved_person': True,\n",
       " 'self_defined_ethnicity': 'White - English/Welsh/Scottish/Northern Irish/British',\n",
       " 'gender': 'Male',\n",
       " 'legislation': 'Police and Criminal Evidence Act 1984 (section 1)',\n",
       " 'outcome_linked_to_object_of_search': None,\n",
       " 'datetime': '2020-06-12T21:04:00+00:00',\n",
       " 'removal_of_more_than_outer_clothing': False,\n",
       " 'outcome_object': {'id': 'bu-no-further-action',\n",
       "  'name': 'A no further action disposal'},\n",
       " 'location': {'latitude': '52.629909',\n",
       "  'street': {'id': 883345, 'name': 'On or near Marquis Street'},\n",
       "  'longitude': '-1.132073'},\n",
       " 'operation': None,\n",
       " 'officer_defined_ethnicity': 'White',\n",
       " 'type': 'Person search',\n",
       " 'operation_name': None,\n",
       " 'object_of_search': 'Stolen goods'}"
      ]
     },
     "execution_count": 47,
     "metadata": {},
     "output_type": "execute_result"
    }
   ],
   "source": [
    "response[0]"
   ]
  },
  {
   "cell_type": "code",
   "execution_count": null,
   "metadata": {},
   "outputs": [],
   "source": []
  }
 ],
 "metadata": {
  "kernelspec": {
   "display_name": "virtual_env_one",
   "language": "python",
   "name": "virtual_env_one"
  },
  "language_info": {
   "codemirror_mode": {
    "name": "ipython",
    "version": 3
   },
   "file_extension": ".py",
   "mimetype": "text/x-python",
   "name": "python",
   "nbconvert_exporter": "python",
   "pygments_lexer": "ipython3",
   "version": "3.7.3"
  }
 },
 "nbformat": 4,
 "nbformat_minor": 2
}
