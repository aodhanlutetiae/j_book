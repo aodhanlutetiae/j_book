{
 "cells": [
  {
   "cell_type": "markdown",
   "metadata": {},
   "source": [
    "## Open Charge Map API\n",
    "\n",
    "> documentation: https://openchargemap.org/site/develop/api\n",
    "\n",
    "> forum: https://community.openchargemap.org/\n"
   ]
  },
  {
   "cell_type": "code",
   "execution_count": 83,
   "metadata": {},
   "outputs": [],
   "source": [
    "import requests\n",
    "import collections\n"
   ]
  },
  {
   "cell_type": "code",
   "execution_count": 16,
   "metadata": {},
   "outputs": [],
   "source": [
    "# assign API key to variable\n",
    "\n",
    "ocm_key = '****'"
   ]
  },
  {
   "cell_type": "code",
   "execution_count": 25,
   "metadata": {},
   "outputs": [
    {
     "data": {
      "text/plain": [
       "<Response [200]>"
      ]
     },
     "execution_count": 25,
     "metadata": {},
     "output_type": "execute_result"
    }
   ],
   "source": [
    "# test query for GB (Great Britain), 100 results, as single url\n",
    "\n",
    "call = 'https://api.openchargemap.io/v3/poi/?key=ocm_key&output=json&countrycode=GB&maxresults=100&compact=true&verbose=false'\n",
    "req = requests.get(call)\n",
    "req"
   ]
  },
  {
   "cell_type": "code",
   "execution_count": 77,
   "metadata": {},
   "outputs": [
    {
     "name": "stdout",
     "output_type": "stream",
     "text": [
      "<Response [200]>\n"
     ]
    }
   ],
   "source": [
    "# all charging points in a 20 mile radius from Jomec\n",
    "\n",
    "params = {\"key\": ocm_key,\n",
    "          \"countrycode\": \"GB\", \n",
    "          \"output\": \"json\", \n",
    "          \"latitude\": 51.476629314550514, \n",
    "          \"longitude\": -3.1808810080300978, \n",
    "          \"distance\":20,\n",
    "          \"distanceunit\": 'Miles',\n",
    "          \"compact\": True, \n",
    "          \"verbose\": False, \n",
    "          \"maxresults\": 2_000}\n",
    "\n",
    "endpoint = 'https://api.openchargemap.io/v3/poi/?'\n",
    "\n",
    "req = requests.get(endpoint, params = params)\n",
    "print(req)"
   ]
  },
  {
   "cell_type": "code",
   "execution_count": 78,
   "metadata": {},
   "outputs": [
    {
     "data": {
      "text/plain": [
       "134"
      ]
     },
     "execution_count": 78,
     "metadata": {},
     "output_type": "execute_result"
    }
   ],
   "source": [
    "# how many items were returned?\n",
    "\n",
    "len(req.json())"
   ]
  },
  {
   "cell_type": "code",
   "execution_count": 79,
   "metadata": {},
   "outputs": [
    {
     "data": {
      "text/plain": [
       "{'IsRecentlyVerified': False,\n",
       " 'ID': 88787,\n",
       " 'UUID': 'FED58EBC-4C2B-4D67-B13F-8B2ADA11FC1C',\n",
       " 'DataProviderID': 1,\n",
       " 'OperatorID': 23,\n",
       " 'OperatorsReference': '30531',\n",
       " 'UsageTypeID': 4,\n",
       " 'AddressInfo': {'ID': 89133,\n",
       "  'Title': \"St David's Shopping Centre\",\n",
       "  'AddressLine1': \"St David's Shopping Centre Bridge Street Arcade\",\n",
       "  'StateOrProvince': 'Cardiff',\n",
       "  'Postcode': 'CF10 2EQ',\n",
       "  'CountryID': 1,\n",
       "  'Latitude': 51.479103,\n",
       "  'Longitude': -3.174819,\n",
       "  'ContactTelephone1': '+44 292 036 7650',\n",
       "  'Distance': 0.31188723957969405,\n",
       "  'DistanceUnit': 2},\n",
       " 'Connections': [{'ID': 126035,\n",
       "   'ConnectionTypeID': 30,\n",
       "   'StatusTypeID': 50,\n",
       "   'LevelID': 2,\n",
       "   'Amps': 32,\n",
       "   'Voltage': 230,\n",
       "   'PowerKW': 13.0,\n",
       "   'CurrentTypeID': 20,\n",
       "   'Quantity': 2}],\n",
       " 'NumberOfPoints': 2,\n",
       " 'GeneralComments': '2 Tesla Connectors, up to 13kW.Available for customers. Self park.',\n",
       " 'StatusTypeID': 50,\n",
       " 'DateLastStatusUpdate': '2018-10-03T15:07:00Z',\n",
       " 'DataQualityLevel': 1,\n",
       " 'DateCreated': '2017-06-09T13:39:00Z',\n",
       " 'SubmissionStatusTypeID': 200}"
      ]
     },
     "execution_count": 79,
     "metadata": {},
     "output_type": "execute_result"
    }
   ],
   "source": [
    "# assign to variable and examine first item\n",
    "\n",
    "data = req.json()\n",
    "data[0]"
   ]
  },
  {
   "cell_type": "code",
   "execution_count": 80,
   "metadata": {},
   "outputs": [
    {
     "name": "stdout",
     "output_type": "stream",
     "text": [
      "134\n"
     ]
    }
   ],
   "source": [
    "# assemble list of postcodes\n",
    "\n",
    "pc_list = []\n",
    "\n",
    "for x in data:\n",
    "    \n",
    "    pc = x['AddressInfo']['Postcode']\n",
    "    pc_list.append(pc)\n",
    "\n",
    "print(len(pc_list))"
   ]
  },
  {
   "cell_type": "code",
   "execution_count": 88,
   "metadata": {},
   "outputs": [
    {
     "name": "stdout",
     "output_type": "stream",
     "text": [
      "BS22 9UH\n",
      "BS23 1JP\n",
      "BS23 1UA\n",
      "BS23 1UA\n",
      "BS23 3PT\n",
      "BS23 3YN\n",
      "BS23 3YX\n",
      "BS22 6AQ\n",
      "BS21 7RH\n",
      "BS21 7TU\n",
      "BS21 6RR\n",
      "BS24 8EE\n",
      "BS24 7DX\n",
      "BS21 6LH\n",
      "BS22 7XN\n",
      "BS22 6DB\n",
      "BS20 8JJ\n",
      "BS49 5AD\n",
      "BS49 5AD\n",
      "BS240JB\n",
      "BS20 7DB\n",
      "BS20 7DE\n",
      "BS20 7GD\n",
      "BS24 0JL\n",
      "BS26 2UF\n",
      "BS48 4AH\n",
      "BS48 1AQ\n",
      "BS20 7TN\n"
     ]
    }
   ],
   "source": [
    "# 20 mile radius reaches over to Bristol - bit far!\n",
    "\n",
    "for x in pc_list:\n",
    "    if x.startswith('BS') == True:\n",
    "        print(x)"
   ]
  },
  {
   "cell_type": "code",
   "execution_count": 92,
   "metadata": {},
   "outputs": [
    {
     "data": {
      "text/plain": [
       "68"
      ]
     },
     "execution_count": 92,
     "metadata": {},
     "output_type": "execute_result"
    }
   ],
   "source": [
    "# how many postcodes are CF, Cardiff?\n",
    "        \n",
    "len([x for x in pc_list if x.startswith('CF') == True])"
   ]
  },
  {
   "cell_type": "code",
   "execution_count": null,
   "metadata": {},
   "outputs": [],
   "source": []
  },
  {
   "cell_type": "code",
   "execution_count": 73,
   "metadata": {},
   "outputs": [
    {
     "name": "stdout",
     "output_type": "stream",
     "text": [
      "<Response [200]>\n"
     ]
    }
   ],
   "source": [
    "# Try 200 queries on the UK\n",
    "\n",
    "params = {\"key\": ocm_key,\n",
    "          \"countrycode\": \"GB\", \n",
    "          \"output\": \"json\", \n",
    "          \"compact\": True, \n",
    "          \"verbose\": False, \n",
    "          \"maxresults\": 200}\n",
    "\n",
    "endpoint = 'https://api.openchargemap.io/v3/poi/?'\n",
    "\n",
    "req = requests.get(endpoint, params = params)\n",
    "data = req.json()\n",
    "print(req)"
   ]
  },
  {
   "cell_type": "code",
   "execution_count": 74,
   "metadata": {},
   "outputs": [],
   "source": [
    "# empty lists to collect cities, and postcodes (and the IDs of problem entries)\n",
    "\n",
    "city_list = []\n",
    "pc_list = []\n",
    "problem_list = []\n",
    "\n",
    "for x in data:\n",
    "    \n",
    "    try:\n",
    "        town = x['AddressInfo']['Town']\n",
    "        pc = x['AddressInfo']['Postcode']\n",
    "\n",
    "        city_list.append(town)\n",
    "        pc_list.append(pc)\n",
    "    \n",
    "    except:\n",
    "        problem_list.append(x['ID'])\n",
    "        pass\n",
    "\n",
    "# build a frequency distribution dictionary for cities, then postcodes\n",
    "counter = collections.Counter(city_list)\n",
    "city_freq_dict = dict(counter)\n",
    "\n",
    "counter = collections.Counter(pc_list)\n",
    "pc_freq_dict = dict(counter)"
   ]
  },
  {
   "cell_type": "code",
   "execution_count": 75,
   "metadata": {},
   "outputs": [
    {
     "name": "stdout",
     "output_type": "stream",
     "text": [
      "200\n",
      "200\n",
      "0\n"
     ]
    }
   ],
   "source": [
    "# check the number of towns and postcodes gathered, from the 200 entries\n",
    "\n",
    "print(len(city_list))\n",
    "print(len(pc_list))\n",
    "\n",
    "# and the number of problems\n",
    "print(len(problem_list))"
   ]
  },
  {
   "cell_type": "code",
   "execution_count": 76,
   "metadata": {},
   "outputs": [
    {
     "data": {
      "text/plain": [
       "{'Coventry': 22,\n",
       " 'Carlisle': 9,\n",
       " 'Leicester': 6,\n",
       " 'Lancaster': 5,\n",
       " 'Leeds': 5,\n",
       " 'Chester': 4,\n",
       " 'Dundee': 3,\n",
       " 'South Shields': 3,\n",
       " 'Sunderland': 3,\n",
       " 'Isle of Man': 3,\n",
       " 'York': 3,\n",
       " 'Wigston': 3,\n",
       " 'Amesbury': 2,\n",
       " 'Fife': 2,\n",
       " 'Glasgow': 2,\n",
       " 'Newcastle': 2,\n",
       " 'Newcastle upon Tyne': 2,\n",
       " 'Newcastle Upon Tyne': 2,\n",
       " 'County Durham': 2,\n",
       " 'Penrith': 2,\n",
       " 'North Yorkshire': 2,\n",
       " 'Malton': 2,\n",
       " 'Sheffield': 2,\n",
       " 'Frodsham': 2,\n",
       " 'Ellesmere Port': 2,\n",
       " 'Galway': 2,\n",
       " 'Northwich': 2,\n",
       " 'Crewe': 2,\n",
       " 'Nottingham': 2,\n",
       " 'Telford': 2,\n",
       " 'Peterborough': 2,\n",
       " 'Hinckley': 2,\n",
       " 'Birmingham': 2,\n",
       " 'City of Edinburgh': 1,\n",
       " 'Wealden': 1,\n",
       " 'Southampton': 1,\n",
       " 'Coupar Angus': 1,\n",
       " 'Landford': 1,\n",
       " 'Falkirk': 1,\n",
       " 'Reading': 1,\n",
       " 'Bainsford': 1,\n",
       " 'London': 1,\n",
       " 'Edinburgh': 1,\n",
       " 'Midlothain': 1,\n",
       " 'Motherwell': 1,\n",
       " 'Kilmarnock': 1,\n",
       " 'Northumberland': 1,\n",
       " 'Hebburn': 1,\n",
       " 'Jarrow': 1,\n",
       " 'East Boldon': 1,\n",
       " 'Hartlepool': 1,\n",
       " 'Middlesbrough': 1,\n",
       " 'Whitby': 1,\n",
       " 'Cumbria': 1,\n",
       " 'Ramsey': 1,\n",
       " 'Sedbergh': 1,\n",
       " 'Millom': 1,\n",
       " 'Pickering': 1,\n",
       " 'Hovingham': 1,\n",
       " 'Craven': 1,\n",
       " 'Douglas': 1,\n",
       " 'Barrow-in-Furness': 1,\n",
       " 'Ballasalla': 1,\n",
       " 'Port Erin': 1,\n",
       " 'Port St Mary': 1,\n",
       " 'Morecambe': 1,\n",
       " 'Heysham': 1,\n",
       " 'Hull': 1,\n",
       " 'Blackpool': 1,\n",
       " 'Selby': 1,\n",
       " 'Cottingham': 1,\n",
       " 'Mellor': 1,\n",
       " 'Hedon': 1,\n",
       " 'Bradford': 1,\n",
       " 'Batley': 1,\n",
       " 'Rossendale': 1,\n",
       " 'Dewsbury': 1,\n",
       " 'Wakefield': 1,\n",
       " 'Southport': 1,\n",
       " 'Bolton': 1,\n",
       " 'Wigan': 1,\n",
       " 'Liverpool': 1,\n",
       " 'Manchester': 1,\n",
       " 'Saint Helens': 1,\n",
       " 'Birchwood': 1,\n",
       " 'Prescot': 1,\n",
       " 'Rotherham': 1,\n",
       " 'Worksop': 1,\n",
       " 'Neston': 1,\n",
       " 'Co. Dublin': 1,\n",
       " 'Dublin': 1,\n",
       " 'Macclesfield': 1,\n",
       " 'Lincolnshire': 1,\n",
       " 'Holmes Chapel': 1,\n",
       " 'Tattenhall': 1,\n",
       " 'Hardstoft': 1,\n",
       " 'Nantwich': 1,\n",
       " 'Wells-next-the-Sea': 1,\n",
       " 'Beeston Regis': 1,\n",
       " 'Langham': 1,\n",
       " 'Cromer': 1,\n",
       " 'Grantham': 1,\n",
       " 'Holt': 1,\n",
       " 'Gwynedd': 1,\n",
       " 'Stone': 1,\n",
       " 'Castle Donington,': 1,\n",
       " 'Stafford': 1,\n",
       " 'Fakenham': 1,\n",
       " 'North Walsham': 1,\n",
       " 'Bourne': 1,\n",
       " 'Thringstone': 1,\n",
       " 'Coalville,': 1,\n",
       " 'Hoveton': 1,\n",
       " 'Cannock': 1,\n",
       " 'Lichfield': 1,\n",
       " 'Stamford': 1,\n",
       " 'Norwich': 1,\n",
       " 'Great Yarmouth': 1,\n",
       " 'Bilston': 1,\n",
       " 'Nuneaton': 1,\n",
       " 'Halesowen': 1,\n",
       " 'Kinver': 1}"
      ]
     },
     "execution_count": 76,
     "metadata": {},
     "output_type": "execute_result"
    }
   ],
   "source": [
    "# from a (not at all random) sample of 200 entries, how are UK cities represented?\n",
    "\n",
    "dict(sorted(city_freq_dict.items(), key=lambda item: item[1], reverse = True))\n"
   ]
  },
  {
   "cell_type": "code",
   "execution_count": null,
   "metadata": {},
   "outputs": [],
   "source": []
  }
 ],
 "metadata": {
  "kernelspec": {
   "display_name": "Python 3",
   "language": "python",
   "name": "python3"
  },
  "language_info": {
   "codemirror_mode": {
    "name": "ipython",
    "version": 3
   },
   "file_extension": ".py",
   "mimetype": "text/x-python",
   "name": "python",
   "nbconvert_exporter": "python",
   "pygments_lexer": "ipython3",
   "version": "3.7.9"
  }
 },
 "nbformat": 4,
 "nbformat_minor": 4
}
