{
 "cells": [
  {
   "cell_type": "markdown",
   "metadata": {},
   "source": [
    "# 14,000 Bees\n",
    "\n",
    "> [Jump directly to questions and answers, below](#querying)\n",
    "\n",
    "<br><br><br><br>\n"
   ]
  },
  {
   "cell_type": "code",
   "execution_count": 1,
   "metadata": {},
   "outputs": [
    {
     "name": "stdout",
     "output_type": "stream",
     "text": [
      "(14699, 30)\n"
     ]
    }
   ],
   "source": [
    "# import data and examine size\n",
    "\n",
    "import pandas as pd\n",
    "pd.set_option('display.max_columns', 50)\n",
    "import warnings\n",
    "warnings.simplefilter(action = 'ignore', category = Warning)\n",
    "\n",
    "file = '/Users/aidanair/Documents/DATA/ALL_DATASETS/bees_0610.csv'\n",
    "df = pd.read_csv(file, sep = ';')\n",
    "\n",
    "print(df.shape)"
   ]
  },
  {
   "cell_type": "markdown",
   "metadata": {},
   "source": [
    "> The dataset has over 14,000 rows and 30 columns."
   ]
  },
  {
   "cell_type": "code",
   "execution_count": 2,
   "metadata": {},
   "outputs": [
    {
     "data": {
      "text/html": [
       "<div>\n",
       "<style scoped>\n",
       "    .dataframe tbody tr th:only-of-type {\n",
       "        vertical-align: middle;\n",
       "    }\n",
       "\n",
       "    .dataframe tbody tr th {\n",
       "        vertical-align: top;\n",
       "    }\n",
       "\n",
       "    .dataframe thead th {\n",
       "        text-align: right;\n",
       "    }\n",
       "</style>\n",
       "<table border=\"1\" class=\"dataframe\">\n",
       "  <thead>\n",
       "    <tr style=\"text-align: right;\">\n",
       "      <th></th>\n",
       "      <th>ID</th>\n",
       "      <th>ROOT_ID</th>\n",
       "      <th>STATE</th>\n",
       "      <th>FEATURED</th>\n",
       "      <th>CHECKED</th>\n",
       "      <th>VALIDATION_SCORE</th>\n",
       "      <th>LATITUDE</th>\n",
       "      <th>LONGITUDE</th>\n",
       "      <th>CREATED_AT</th>\n",
       "      <th>MODIFIED_AT</th>\n",
       "      <th>USER_ID</th>\n",
       "      <th>IMAGE</th>\n",
       "      <th>BEE_VISITING</th>\n",
       "      <th>CATEGORY</th>\n",
       "      <th>OTHER_PLANT</th>\n",
       "      <th>BEE_TYPE</th>\n",
       "      <th>OTHER_BEE_TYPE</th>\n",
       "      <th>SETTING</th>\n",
       "      <th>OTHER_SETTING</th>\n",
       "      <th>CLIMBER_TYPE</th>\n",
       "      <th>OTHER_CLIMBER</th>\n",
       "      <th>SHRUB_TYPE</th>\n",
       "      <th>OTHER_SHRUB</th>\n",
       "      <th>TREE_TYPE</th>\n",
       "      <th>OTHER_TREE</th>\n",
       "      <th>WEATHER</th>\n",
       "      <th>OTHER_WEATHER</th>\n",
       "      <th>EMOTION</th>\n",
       "      <th>DESCRIPTION</th>\n",
       "      <th>SPOTTED_AT</th>\n",
       "    </tr>\n",
       "  </thead>\n",
       "  <tbody>\n",
       "    <tr>\n",
       "      <th>0</th>\n",
       "      <td>693207</td>\n",
       "      <td>693207</td>\n",
       "      <td>enabled</td>\n",
       "      <td>0</td>\n",
       "      <td>0</td>\n",
       "      <td>0</td>\n",
       "      <td>-37.785884</td>\n",
       "      <td>175.256464</td>\n",
       "      <td>2022-10-04 00:32</td>\n",
       "      <td>NaN</td>\n",
       "      <td>62671</td>\n",
       "      <td>https://files.spotteron.com/images/spots/00003...</td>\n",
       "      <td>a flower</td>\n",
       "      <td>Other plant</td>\n",
       "      <td>Lavender</td>\n",
       "      <td>Honey bee</td>\n",
       "      <td>NaN</td>\n",
       "      <td>other</td>\n",
       "      <td>Garden centre</td>\n",
       "      <td>NaN</td>\n",
       "      <td>NaN</td>\n",
       "      <td>NaN</td>\n",
       "      <td>NaN</td>\n",
       "      <td>NaN</td>\n",
       "      <td>NaN</td>\n",
       "      <td>Sunny</td>\n",
       "      <td>NaN</td>\n",
       "      <td>Happy</td>\n",
       "      <td>NaN</td>\n",
       "      <td>2022-10-04 11:30</td>\n",
       "    </tr>\n",
       "    <tr>\n",
       "      <th>1</th>\n",
       "      <td>693206</td>\n",
       "      <td>693206</td>\n",
       "      <td>enabled</td>\n",
       "      <td>0</td>\n",
       "      <td>0</td>\n",
       "      <td>0</td>\n",
       "      <td>-37.785884</td>\n",
       "      <td>175.256464</td>\n",
       "      <td>2022-10-04 00:27</td>\n",
       "      <td>NaN</td>\n",
       "      <td>62671</td>\n",
       "      <td>https://files.spotteron.com/images/spots/00003...</td>\n",
       "      <td>a flower</td>\n",
       "      <td>Other plant</td>\n",
       "      <td>Lavender</td>\n",
       "      <td>Honey bee</td>\n",
       "      <td>NaN</td>\n",
       "      <td>other</td>\n",
       "      <td>Garden Centre</td>\n",
       "      <td>NaN</td>\n",
       "      <td>NaN</td>\n",
       "      <td>NaN</td>\n",
       "      <td>NaN</td>\n",
       "      <td>NaN</td>\n",
       "      <td>NaN</td>\n",
       "      <td>Sunny</td>\n",
       "      <td>NaN</td>\n",
       "      <td>NaN</td>\n",
       "      <td>NaN</td>\n",
       "      <td>2022-10-04 11:26</td>\n",
       "    </tr>\n",
       "    <tr>\n",
       "      <th>2</th>\n",
       "      <td>693205</td>\n",
       "      <td>693205</td>\n",
       "      <td>enabled</td>\n",
       "      <td>0</td>\n",
       "      <td>0</td>\n",
       "      <td>0</td>\n",
       "      <td>-37.785884</td>\n",
       "      <td>175.256464</td>\n",
       "      <td>2022-10-04 00:25</td>\n",
       "      <td>NaN</td>\n",
       "      <td>62671</td>\n",
       "      <td>https://files.spotteron.com/images/spots/00003...</td>\n",
       "      <td>a flower</td>\n",
       "      <td>Other plant</td>\n",
       "      <td>Lavender</td>\n",
       "      <td>Honey bee</td>\n",
       "      <td>NaN</td>\n",
       "      <td>other</td>\n",
       "      <td>Garden Center</td>\n",
       "      <td>NaN</td>\n",
       "      <td>NaN</td>\n",
       "      <td>NaN</td>\n",
       "      <td>NaN</td>\n",
       "      <td>NaN</td>\n",
       "      <td>NaN</td>\n",
       "      <td>Sunny</td>\n",
       "      <td>NaN</td>\n",
       "      <td>Happy</td>\n",
       "      <td>There were alot of bees working around the lav...</td>\n",
       "      <td>2022-10-04 11:15</td>\n",
       "    </tr>\n",
       "  </tbody>\n",
       "</table>\n",
       "</div>"
      ],
      "text/plain": [
       "       ID  ROOT_ID    STATE  FEATURED  CHECKED  VALIDATION_SCORE   LATITUDE  \\\n",
       "0  693207   693207  enabled         0        0                 0 -37.785884   \n",
       "1  693206   693206  enabled         0        0                 0 -37.785884   \n",
       "2  693205   693205  enabled         0        0                 0 -37.785884   \n",
       "\n",
       "    LONGITUDE        CREATED_AT MODIFIED_AT  USER_ID  \\\n",
       "0  175.256464  2022-10-04 00:32         NaN    62671   \n",
       "1  175.256464  2022-10-04 00:27         NaN    62671   \n",
       "2  175.256464  2022-10-04 00:25         NaN    62671   \n",
       "\n",
       "                                               IMAGE BEE_VISITING  \\\n",
       "0  https://files.spotteron.com/images/spots/00003...     a flower   \n",
       "1  https://files.spotteron.com/images/spots/00003...     a flower   \n",
       "2  https://files.spotteron.com/images/spots/00003...     a flower   \n",
       "\n",
       "      CATEGORY OTHER_PLANT   BEE_TYPE OTHER_BEE_TYPE SETTING  OTHER_SETTING  \\\n",
       "0  Other plant    Lavender  Honey bee            NaN   other  Garden centre   \n",
       "1  Other plant    Lavender  Honey bee            NaN   other  Garden Centre   \n",
       "2  Other plant    Lavender  Honey bee            NaN   other  Garden Center   \n",
       "\n",
       "   CLIMBER_TYPE  OTHER_CLIMBER  SHRUB_TYPE  OTHER_SHRUB  TREE_TYPE  \\\n",
       "0           NaN            NaN         NaN          NaN        NaN   \n",
       "1           NaN            NaN         NaN          NaN        NaN   \n",
       "2           NaN            NaN         NaN          NaN        NaN   \n",
       "\n",
       "   OTHER_TREE WEATHER OTHER_WEATHER EMOTION  \\\n",
       "0         NaN   Sunny           NaN   Happy   \n",
       "1         NaN   Sunny           NaN     NaN   \n",
       "2         NaN   Sunny           NaN   Happy   \n",
       "\n",
       "                                         DESCRIPTION        SPOTTED_AT  \n",
       "0                                                NaN  2022-10-04 11:30  \n",
       "1                                                NaN  2022-10-04 11:26  \n",
       "2  There were alot of bees working around the lav...  2022-10-04 11:15  "
      ]
     },
     "execution_count": 2,
     "metadata": {},
     "output_type": "execute_result"
    }
   ],
   "source": [
    "df.head(3)"
   ]
  },
  {
   "cell_type": "markdown",
   "metadata": {},
   "source": [
    "\n",
    "\n",
    "> CLEANING: remove some columns that hold no data, change data type, make column headers lowercase"
   ]
  },
  {
   "cell_type": "code",
   "execution_count": 3,
   "metadata": {},
   "outputs": [],
   "source": [
    "# lowercase the column headings\n",
    "\n",
    "df_cols2 = []\n",
    "for x in df.columns:\n",
    "    term = x.lower()\n",
    "    df_cols2.append(term)\n",
    "    \n",
    "df.columns = df_cols2"
   ]
  },
  {
   "cell_type": "code",
   "execution_count": 4,
   "metadata": {},
   "outputs": [
    {
     "data": {
      "text/plain": [
       "Series([], Name: climber_type, dtype: int64)"
      ]
     },
     "execution_count": 4,
     "metadata": {},
     "output_type": "execute_result"
    }
   ],
   "source": [
    "# checking each col to see there are actually values in it, and if so that there is more than one\n",
    "\n",
    "# validation_score has only 0 values\n",
    "# climber_type has no values\n",
    "# other_climber has no values\n",
    "# shrub_type has no values\n",
    "# other_shrub has no values\n",
    "# tree_type has no values\n",
    "# other_tree has no values\n",
    "\n",
    "df.climber_type.value_counts()"
   ]
  },
  {
   "cell_type": "code",
   "execution_count": 5,
   "metadata": {},
   "outputs": [],
   "source": [
    "# drop the cols with no values\n",
    "\n",
    "df2 = df[['state', 'featured', 'checked',\n",
    "       'latitude', 'longitude', 'created_at', 'modified_at', 'user_id',\n",
    "       'image', 'bee_visiting', 'category', 'other_plant', 'bee_type',\n",
    "       'other_bee_type', 'setting', 'other_setting', \n",
    "       'weather', 'other_weather', 'emotion', 'description', 'spotted_at']]"
   ]
  },
  {
   "cell_type": "code",
   "execution_count": 6,
   "metadata": {},
   "outputs": [],
   "source": [
    "# cast three string cols to datetime\n",
    "\n",
    "df2['created_at'] = df2['created_at'].astype('datetime64[ns]')\n",
    "df2['modified_at'] = df2['modified_at'].astype('datetime64[ns]')\n",
    "df2['spotted_at'] = df2['spotted_at'].astype('datetime64[ns]')"
   ]
  },
  {
   "cell_type": "markdown",
   "metadata": {},
   "source": [
    "<a id='querying'></a>\n",
    "<br><br><br><br>\n",
    "\n",
    "\n",
    "> QUERYING: below we ask the following questions\n",
    "\n",
    "> \n",
    "\n",
    "> \n",
    "\n",
    "> What period does the data cover? **April 15, 2020 to Oct 4, 2022**\n",
    "\n",
    "> What are the frequency rankings for bee types observed? **Honey bee on top at 3,000+, Leaf-cutter bee rarest at 68 (see below for others)**\n",
    "\n",
    "> What do they visit? **Flowers overwhelmingly, but shrubs, trees and climbers also noted**\n",
    "\n",
    "> What's the Honeybee count over the three years? (Note: 2020 and 2022 are partial years) **1,419 (2020), 1,207(2021), 670 (2022)**\n",
    "\n",
    "> What's the bumblebee count (all 6 types considered) over the three years? **3,239 (2020), 1,864(2021), 865 (2022)**\n",
    "\n",
    "> In a full year (2021) how are the recorded bumblebees distributed by month? **Over two thirds fall in June, July and August** Chart below.\n",
    "\n",
    "> In a full year (2021) how are the recorded bumblebees distributed by week? **Week 23 has a surge to almost twice the next nearest week, with over 200 sightings** Chart below.\n",
    "\n",
    "> Where does the data come from, geographically?\n",
    "**The data extends from the level of New Zealand in the south to the level of Norway in the north and from Alaksa in the west to New Zealand in the east**\n",
    "\n",
    "> Assuming Wales to be a crude rectangle, how many observations in Wales? **About 1,300**\n",
    "\n",
    "> If we draw a rectangle around Cardiff using Taffs Well in the north-west and a point in the sea in the south-east, how many observations are in Cardiff? **536**\n",
    "\n",
    "> How many bees noted in Cardiff, by year? **393, 85, 58**\n",
    "\n",
    "> How many bumblebees noted in Cardiff over the three years? **174, 48 and 38**"
   ]
  },
  {
   "cell_type": "code",
   "execution_count": 7,
   "metadata": {},
   "outputs": [
    {
     "data": {
      "text/html": [
       "<div>\n",
       "<style scoped>\n",
       "    .dataframe tbody tr th:only-of-type {\n",
       "        vertical-align: middle;\n",
       "    }\n",
       "\n",
       "    .dataframe tbody tr th {\n",
       "        vertical-align: top;\n",
       "    }\n",
       "\n",
       "    .dataframe thead th {\n",
       "        text-align: right;\n",
       "    }\n",
       "</style>\n",
       "<table border=\"1\" class=\"dataframe\">\n",
       "  <thead>\n",
       "    <tr style=\"text-align: right;\">\n",
       "      <th></th>\n",
       "      <th>state</th>\n",
       "      <th>featured</th>\n",
       "      <th>checked</th>\n",
       "      <th>latitude</th>\n",
       "      <th>longitude</th>\n",
       "      <th>created_at</th>\n",
       "      <th>modified_at</th>\n",
       "      <th>user_id</th>\n",
       "      <th>image</th>\n",
       "      <th>bee_visiting</th>\n",
       "      <th>category</th>\n",
       "      <th>other_plant</th>\n",
       "      <th>bee_type</th>\n",
       "      <th>other_bee_type</th>\n",
       "      <th>setting</th>\n",
       "      <th>other_setting</th>\n",
       "      <th>weather</th>\n",
       "      <th>other_weather</th>\n",
       "      <th>emotion</th>\n",
       "      <th>description</th>\n",
       "      <th>spotted_at</th>\n",
       "    </tr>\n",
       "  </thead>\n",
       "  <tbody>\n",
       "    <tr>\n",
       "      <th>0</th>\n",
       "      <td>enabled</td>\n",
       "      <td>0</td>\n",
       "      <td>0</td>\n",
       "      <td>-37.785884</td>\n",
       "      <td>175.256464</td>\n",
       "      <td>2022-10-04 00:32:00</td>\n",
       "      <td>NaT</td>\n",
       "      <td>62671</td>\n",
       "      <td>https://files.spotteron.com/images/spots/00003...</td>\n",
       "      <td>a flower</td>\n",
       "      <td>Other plant</td>\n",
       "      <td>Lavender</td>\n",
       "      <td>Honey bee</td>\n",
       "      <td>NaN</td>\n",
       "      <td>other</td>\n",
       "      <td>Garden centre</td>\n",
       "      <td>Sunny</td>\n",
       "      <td>NaN</td>\n",
       "      <td>Happy</td>\n",
       "      <td>NaN</td>\n",
       "      <td>2022-10-04 11:30:00</td>\n",
       "    </tr>\n",
       "    <tr>\n",
       "      <th>1</th>\n",
       "      <td>enabled</td>\n",
       "      <td>0</td>\n",
       "      <td>0</td>\n",
       "      <td>-37.785884</td>\n",
       "      <td>175.256464</td>\n",
       "      <td>2022-10-04 00:27:00</td>\n",
       "      <td>NaT</td>\n",
       "      <td>62671</td>\n",
       "      <td>https://files.spotteron.com/images/spots/00003...</td>\n",
       "      <td>a flower</td>\n",
       "      <td>Other plant</td>\n",
       "      <td>Lavender</td>\n",
       "      <td>Honey bee</td>\n",
       "      <td>NaN</td>\n",
       "      <td>other</td>\n",
       "      <td>Garden Centre</td>\n",
       "      <td>Sunny</td>\n",
       "      <td>NaN</td>\n",
       "      <td>NaN</td>\n",
       "      <td>NaN</td>\n",
       "      <td>2022-10-04 11:26:00</td>\n",
       "    </tr>\n",
       "    <tr>\n",
       "      <th>2</th>\n",
       "      <td>enabled</td>\n",
       "      <td>0</td>\n",
       "      <td>0</td>\n",
       "      <td>-37.785884</td>\n",
       "      <td>175.256464</td>\n",
       "      <td>2022-10-04 00:25:00</td>\n",
       "      <td>NaT</td>\n",
       "      <td>62671</td>\n",
       "      <td>https://files.spotteron.com/images/spots/00003...</td>\n",
       "      <td>a flower</td>\n",
       "      <td>Other plant</td>\n",
       "      <td>Lavender</td>\n",
       "      <td>Honey bee</td>\n",
       "      <td>NaN</td>\n",
       "      <td>other</td>\n",
       "      <td>Garden Center</td>\n",
       "      <td>Sunny</td>\n",
       "      <td>NaN</td>\n",
       "      <td>Happy</td>\n",
       "      <td>There were alot of bees working around the lav...</td>\n",
       "      <td>2022-10-04 11:15:00</td>\n",
       "    </tr>\n",
       "  </tbody>\n",
       "</table>\n",
       "</div>"
      ],
      "text/plain": [
       "     state  featured  checked   latitude   longitude          created_at  \\\n",
       "0  enabled         0        0 -37.785884  175.256464 2022-10-04 00:32:00   \n",
       "1  enabled         0        0 -37.785884  175.256464 2022-10-04 00:27:00   \n",
       "2  enabled         0        0 -37.785884  175.256464 2022-10-04 00:25:00   \n",
       "\n",
       "  modified_at  user_id                                              image  \\\n",
       "0         NaT    62671  https://files.spotteron.com/images/spots/00003...   \n",
       "1         NaT    62671  https://files.spotteron.com/images/spots/00003...   \n",
       "2         NaT    62671  https://files.spotteron.com/images/spots/00003...   \n",
       "\n",
       "  bee_visiting     category other_plant   bee_type other_bee_type setting  \\\n",
       "0     a flower  Other plant    Lavender  Honey bee            NaN   other   \n",
       "1     a flower  Other plant    Lavender  Honey bee            NaN   other   \n",
       "2     a flower  Other plant    Lavender  Honey bee            NaN   other   \n",
       "\n",
       "   other_setting weather other_weather emotion  \\\n",
       "0  Garden centre   Sunny           NaN   Happy   \n",
       "1  Garden Centre   Sunny           NaN     NaN   \n",
       "2  Garden Center   Sunny           NaN   Happy   \n",
       "\n",
       "                                         description          spotted_at  \n",
       "0                                                NaN 2022-10-04 11:30:00  \n",
       "1                                                NaN 2022-10-04 11:26:00  \n",
       "2  There were alot of bees working around the lav... 2022-10-04 11:15:00  "
      ]
     },
     "execution_count": 7,
     "metadata": {},
     "output_type": "execute_result"
    }
   ],
   "source": [
    "# what period does the data cover?\n",
    "\n",
    "df2.sort_values('created_at', ascending = False).head(3)\n",
    "\n",
    "# earliest entry is April 15, 2020\n",
    "# latest entry is Oct 4, 2022\n",
    "\n",
    "# note - the spotted at variable has date problems. 2012 dates for 'spotted at' that are 2021 dates in reality it seems\n"
   ]
  },
  {
   "cell_type": "code",
   "execution_count": 8,
   "metadata": {},
   "outputs": [
    {
     "data": {
      "text/plain": [
       "Honey bee                 3296\n",
       "other bee                 3175\n",
       "White tailed bumblebee    2533\n",
       "Common carder bee         2091\n",
       "Buff tailed bumblebee     1501\n",
       "Red tailed bumblebee       887\n",
       "Small garden bumblebee     849\n",
       "Red mason bee              101\n",
       "Heath bumblebee            101\n",
       "Early mining bumblebee      97\n",
       "Leaf-cutter bee             68\n",
       "Name: bee_type, dtype: int64"
      ]
     },
     "execution_count": 8,
     "metadata": {},
     "output_type": "execute_result"
    }
   ],
   "source": [
    "# rankings for bee type\n",
    "\n",
    "df2.bee_type.value_counts()"
   ]
  },
  {
   "cell_type": "code",
   "execution_count": 9,
   "metadata": {},
   "outputs": [
    {
     "data": {
      "text/plain": [
       "a flower     10470\n",
       "a shrub       3361\n",
       "a tree         530\n",
       "a climber      338\n",
       "Name: bee_visiting, dtype: int64"
      ]
     },
     "execution_count": 9,
     "metadata": {},
     "output_type": "execute_result"
    }
   ],
   "source": [
    "# rankings for bee visiting\n",
    "\n",
    "df2.bee_visiting.value_counts()"
   ]
  },
  {
   "cell_type": "markdown",
   "metadata": {},
   "source": [
    "<br><br><br>\n",
    "\n",
    "> TIME"
   ]
  },
  {
   "cell_type": "code",
   "execution_count": 10,
   "metadata": {
    "scrolled": true
   },
   "outputs": [
    {
     "data": {
      "text/plain": [
       "created_at\n",
       "2020    1419\n",
       "2021    1207\n",
       "2022     670\n",
       "Name: bee_type, dtype: int64"
      ]
     },
     "execution_count": 10,
     "metadata": {},
     "output_type": "execute_result"
    }
   ],
   "source": [
    "# filter for just 'Honey bee'\n",
    "hb = df2[df2.bee_type == 'Honey bee']\n",
    "\n",
    "# count by year\n",
    "hb.groupby(hb.created_at.dt.year)['bee_type'].count()"
   ]
  },
  {
   "cell_type": "code",
   "execution_count": 11,
   "metadata": {},
   "outputs": [
    {
     "name": "stdout",
     "output_type": "stream",
     "text": [
      "5968\n"
     ]
    }
   ],
   "source": [
    "bb = ['White tailed bumblebee', 'Buff tailed bumblebee', 'Red tailed bumblebee', 'Small garden bumblebee',\n",
    "      'Heath bumblebee', 'Early mining bumblebee']\n",
    "\n",
    "# how many observations for the bumblebees in the list?\n",
    "print(len(df2[df2.bee_type.isin(bb) == True]))\n",
    "\n",
    "# create df just for bumblebees\n",
    "bbo = df2[df2.bee_type.isin(bb) == True]"
   ]
  },
  {
   "cell_type": "code",
   "execution_count": 12,
   "metadata": {},
   "outputs": [
    {
     "data": {
      "text/plain": [
       "created_at\n",
       "2020    3239\n",
       "2021    1864\n",
       "2022     865\n",
       "Name: bee_type, dtype: int64"
      ]
     },
     "execution_count": 12,
     "metadata": {},
     "output_type": "execute_result"
    }
   ],
   "source": [
    "# what's the count of bumblebees by year?\n",
    "\n",
    "bbo.groupby(bbo.created_at.dt.year)['bee_type'].count()"
   ]
  },
  {
   "cell_type": "code",
   "execution_count": 13,
   "metadata": {},
   "outputs": [
    {
     "name": "stdout",
     "output_type": "stream",
     "text": [
      "created_at\n",
      "1       3\n",
      "2      22\n",
      "3      82\n",
      "4     172\n",
      "5     184\n",
      "6     611\n",
      "7     395\n",
      "8     303\n",
      "9      61\n",
      "10     18\n",
      "11      8\n",
      "12      5\n",
      "Name: bee_type, dtype: int64\n"
     ]
    },
    {
     "data": {
      "image/png": "[encoded data removed]",
      "text/plain": [
       "<Figure size 432x288 with 1 Axes>"
      ]
     },
     "metadata": {
      "filenames": {
       "image/png": "/Users/aidanair/Documents/DATA/j_book/_build/jupyter_execute/bees_14k_17_1.png"
      },
      "needs_background": "light"
     },
     "output_type": "display_data"
    }
   ],
   "source": [
    "# Taking just 2021, what's the distribution over months for bumblebee sightings?\n",
    "\n",
    "print(bbo[bbo.created_at.dt.year == 2021].groupby(bbo.created_at.dt.month)['bee_type'].count())\n",
    "\n",
    "bbo[bbo.created_at.dt.year == 2021].groupby(bbo.created_at.dt.month)['bee_type'].count().plot(kind = 'bar');\n"
   ]
  },
  {
   "cell_type": "code",
   "execution_count": 14,
   "metadata": {},
   "outputs": [
    {
     "data": {
      "image/png": "[encoded data removed]",
      "text/plain": [
       "<Figure size 432x288 with 1 Axes>"
      ]
     },
     "metadata": {
      "filenames": {
       "image/png": "/Users/aidanair/Documents/DATA/j_book/_build/jupyter_execute/bees_14k_18_0.png"
      },
      "needs_background": "light"
     },
     "output_type": "display_data"
    }
   ],
   "source": [
    "# Taking just 2021, what's the distribution over weeks for bumblebee sightings?\n",
    "\n",
    "bbo[bbo.created_at.dt.year == 2021].groupby(bbo.created_at.dt.week)['bee_type'].count().plot();\n"
   ]
  },
  {
   "cell_type": "markdown",
   "metadata": {},
   "source": [
    "<br><br><br>\n",
    "\n",
    "> PLACE"
   ]
  },
  {
   "cell_type": "code",
   "execution_count": 15,
   "metadata": {},
   "outputs": [
    {
     "data": {
      "text/html": [
       "<div>\n",
       "<style scoped>\n",
       "    .dataframe tbody tr th:only-of-type {\n",
       "        vertical-align: middle;\n",
       "    }\n",
       "\n",
       "    .dataframe tbody tr th {\n",
       "        vertical-align: top;\n",
       "    }\n",
       "\n",
       "    .dataframe thead th {\n",
       "        text-align: right;\n",
       "    }\n",
       "</style>\n",
       "<table border=\"1\" class=\"dataframe\">\n",
       "  <thead>\n",
       "    <tr style=\"text-align: right;\">\n",
       "      <th></th>\n",
       "      <th>state</th>\n",
       "      <th>featured</th>\n",
       "      <th>checked</th>\n",
       "      <th>latitude</th>\n",
       "      <th>longitude</th>\n",
       "      <th>created_at</th>\n",
       "      <th>modified_at</th>\n",
       "      <th>user_id</th>\n",
       "      <th>image</th>\n",
       "      <th>bee_visiting</th>\n",
       "      <th>category</th>\n",
       "      <th>other_plant</th>\n",
       "      <th>bee_type</th>\n",
       "      <th>other_bee_type</th>\n",
       "      <th>setting</th>\n",
       "      <th>other_setting</th>\n",
       "      <th>weather</th>\n",
       "      <th>other_weather</th>\n",
       "      <th>emotion</th>\n",
       "      <th>description</th>\n",
       "      <th>spotted_at</th>\n",
       "    </tr>\n",
       "  </thead>\n",
       "  <tbody>\n",
       "    <tr>\n",
       "      <th>14329</th>\n",
       "      <td>enabled</td>\n",
       "      <td>0</td>\n",
       "      <td>0</td>\n",
       "      <td>60.436124</td>\n",
       "      <td>-26.324983</td>\n",
       "      <td>2020-05-13 20:40:00</td>\n",
       "      <td>2020-05-19 14:20:00</td>\n",
       "      <td>28616</td>\n",
       "      <td>https://files.spotteron.com/images/spots/00003...</td>\n",
       "      <td>a flower</td>\n",
       "      <td>Other plant</td>\n",
       "      <td>Paradise Apple Tree (maybe, more research has ...</td>\n",
       "      <td>Honey bee</td>\n",
       "      <td>NaN</td>\n",
       "      <td>Small Garden</td>\n",
       "      <td>NaN</td>\n",
       "      <td>Sunny</td>\n",
       "      <td>NaN</td>\n",
       "      <td>Happy</td>\n",
       "      <td>The bee was going from flower to flower on the...</td>\n",
       "      <td>2020-05-13 15:24:00</td>\n",
       "    </tr>\n",
       "    <tr>\n",
       "      <th>6159</th>\n",
       "      <td>enabled</td>\n",
       "      <td>0</td>\n",
       "      <td>1</td>\n",
       "      <td>58.178607</td>\n",
       "      <td>-7.053597</td>\n",
       "      <td>2021-05-30 08:13:00</td>\n",
       "      <td>2021-06-03 11:08:00</td>\n",
       "      <td>49360</td>\n",
       "      <td>https://files.spotteron.com/images/spots/00003...</td>\n",
       "      <td>a flower</td>\n",
       "      <td>Bluebell</td>\n",
       "      <td>NaN</td>\n",
       "      <td>other bee</td>\n",
       "      <td>Tree bumblebee</td>\n",
       "      <td>Small Garden</td>\n",
       "      <td>NaN</td>\n",
       "      <td>Sunny</td>\n",
       "      <td>NaN</td>\n",
       "      <td>Happy</td>\n",
       "      <td>NaN</td>\n",
       "      <td>2021-05-30 09:08:00</td>\n",
       "    </tr>\n",
       "    <tr>\n",
       "      <th>13846</th>\n",
       "      <td>enabled</td>\n",
       "      <td>0</td>\n",
       "      <td>0</td>\n",
       "      <td>58.046897</td>\n",
       "      <td>11.600560</td>\n",
       "      <td>2020-05-22 12:22:00</td>\n",
       "      <td>NaT</td>\n",
       "      <td>28844</td>\n",
       "      <td>https://files.spotteron.com/images/spots/00003...</td>\n",
       "      <td>a climber</td>\n",
       "      <td>Other plant</td>\n",
       "      <td>Other plant</td>\n",
       "      <td>other bee</td>\n",
       "      <td>Other</td>\n",
       "      <td>Large Garden</td>\n",
       "      <td>NaN</td>\n",
       "      <td>Sunny</td>\n",
       "      <td>NaN</td>\n",
       "      <td>Happy</td>\n",
       "      <td>A bee house in our shed at the summerhouse. A ...</td>\n",
       "      <td>2020-05-22 14:16:00</td>\n",
       "    </tr>\n",
       "  </tbody>\n",
       "</table>\n",
       "</div>"
      ],
      "text/plain": [
       "         state  featured  checked   latitude  longitude          created_at  \\\n",
       "14329  enabled         0        0  60.436124 -26.324983 2020-05-13 20:40:00   \n",
       "6159   enabled         0        1  58.178607  -7.053597 2021-05-30 08:13:00   \n",
       "13846  enabled         0        0  58.046897  11.600560 2020-05-22 12:22:00   \n",
       "\n",
       "              modified_at  user_id  \\\n",
       "14329 2020-05-19 14:20:00    28616   \n",
       "6159  2021-06-03 11:08:00    49360   \n",
       "13846                 NaT    28844   \n",
       "\n",
       "                                                   image bee_visiting  \\\n",
       "14329  https://files.spotteron.com/images/spots/00003...     a flower   \n",
       "6159   https://files.spotteron.com/images/spots/00003...     a flower   \n",
       "13846  https://files.spotteron.com/images/spots/00003...    a climber   \n",
       "\n",
       "          category                                        other_plant  \\\n",
       "14329  Other plant  Paradise Apple Tree (maybe, more research has ...   \n",
       "6159      Bluebell                                                NaN   \n",
       "13846  Other plant                                        Other plant   \n",
       "\n",
       "        bee_type  other_bee_type       setting other_setting weather  \\\n",
       "14329  Honey bee             NaN  Small Garden           NaN   Sunny   \n",
       "6159   other bee  Tree bumblebee  Small Garden           NaN   Sunny   \n",
       "13846  other bee           Other  Large Garden           NaN   Sunny   \n",
       "\n",
       "      other_weather emotion  \\\n",
       "14329           NaN   Happy   \n",
       "6159            NaN   Happy   \n",
       "13846           NaN   Happy   \n",
       "\n",
       "                                             description          spotted_at  \n",
       "14329  The bee was going from flower to flower on the... 2020-05-13 15:24:00  \n",
       "6159                                                 NaN 2021-05-30 09:08:00  \n",
       "13846  A bee house in our shed at the summerhouse. A ... 2020-05-22 14:16:00  "
      ]
     },
     "execution_count": 15,
     "metadata": {},
     "output_type": "execute_result"
    }
   ],
   "source": [
    "# where are we, in terms of this dataset?\n",
    "\n",
    "df2.sort_values('latitude', ascending = False)[:3]\n",
    "\n",
    "# latitude from -39 (for example, the latitude of NZ North Island) to 60 (for example, Shetland, Norway), \n",
    "# longitude from -159 (for example, the longitude of Alaska) to 178 (for example, NZ)"
   ]
  },
  {
   "cell_type": "code",
   "execution_count": 16,
   "metadata": {},
   "outputs": [
    {
     "name": "stdout",
     "output_type": "stream",
     "text": [
      "1372\n"
     ]
    }
   ],
   "source": [
    "# limit to a crude rectangle that is Wales \n",
    "\n",
    "# nw corner\n",
    "north_limit = 53.482882025806845\n",
    "west_limit = -5.46771131838074\n",
    "# se corner\n",
    "south_limit = 51.37206027857178\n",
    "east_limit = -2.985224612199138\n",
    "\n",
    "wales = df2[(df2[\"latitude\"] > south_limit) & (df2[\"latitude\"] < north_limit) & (df2[\"longitude\"] > west_limit) & (df2[\"longitude\"] < east_limit)]\n",
    "print(len(wales))\n"
   ]
  },
  {
   "cell_type": "code",
   "execution_count": 17,
   "metadata": {},
   "outputs": [
    {
     "name": "stdout",
     "output_type": "stream",
     "text": [
      "536\n"
     ]
    }
   ],
   "source": [
    "# limit to a crude rectangle that is Cardiff using a NW and a SE corner\n",
    "\n",
    "# Taffs Well as the western limit\n",
    "west_border = -3.272094191771097\n",
    "# Taffs Well as the northern limit\n",
    "north_border = 51.544947114627696\n",
    "\n",
    "# sea point as eastern limit\n",
    "east_border = -3.093220992892372\n",
    "# sea point as southern limit\n",
    "south_border = 51.447283364739825\n",
    "\n",
    "cdf = df2[(df2[\"latitude\"] > south_border) & (df2[\"latitude\"] < north_border) & (df2[\"longitude\"] > west_border) & (df2[\"longitude\"] < east_border)]\n",
    "print(len(cdf))\n"
   ]
  },
  {
   "cell_type": "code",
   "execution_count": 18,
   "metadata": {},
   "outputs": [
    {
     "data": {
      "text/plain": [
       "created_at\n",
       "2020    393\n",
       "2021     85\n",
       "2022     58\n",
       "Name: bee_type, dtype: int64"
      ]
     },
     "execution_count": 18,
     "metadata": {},
     "output_type": "execute_result"
    }
   ],
   "source": [
    "# how many observations in 'Cardiff' by year?\n",
    "\n",
    "cdf.groupby(cdf.created_at.dt.year)['bee_type'].count()\n"
   ]
  },
  {
   "cell_type": "code",
   "execution_count": 19,
   "metadata": {},
   "outputs": [
    {
     "name": "stdout",
     "output_type": "stream",
     "text": [
      "260\n"
     ]
    }
   ],
   "source": [
    "# limit the earlier Bumblebee df to the 'Cardiff' rectangle - how many in all?\n",
    "\n",
    "cdf_bb = bbo[(bbo[\"latitude\"] > south_border) & (bbo[\"latitude\"] < north_border) & (bbo[\"longitude\"] > west_border) & (bbo[\"longitude\"] < east_border)]\n",
    "print(len(cdf_bb))"
   ]
  },
  {
   "cell_type": "code",
   "execution_count": 20,
   "metadata": {},
   "outputs": [
    {
     "data": {
      "text/plain": [
       "created_at\n",
       "2020    174\n",
       "2021     48\n",
       "2022     38\n",
       "Name: bee_type, dtype: int64"
      ]
     },
     "execution_count": 20,
     "metadata": {},
     "output_type": "execute_result"
    }
   ],
   "source": [
    "# how many observations in 'Cardiff' by year for all bumblebees?\n",
    "\n",
    "cdf_bb.groupby(cdf_bb.created_at.dt.year)['bee_type'].count()\n"
   ]
  },
  {
   "cell_type": "markdown",
   "metadata": {},
   "source": [
    "<br><br><br>"
   ]
  }
 ],
 "metadata": {
  "kernelspec": {
   "display_name": "Python 3",
   "language": "python",
   "name": "python3"
  },
  "language_info": {
   "codemirror_mode": {
    "name": "ipython",
    "version": 3
   },
   "file_extension": ".py",
   "mimetype": "text/x-python",
   "name": "python",
   "nbconvert_exporter": "python",
   "pygments_lexer": "ipython3",
   "version": "3.7.9"
  }
 },
 "nbformat": 4,
 "nbformat_minor": 4
}