{
 "cells": [
  {
   "cell_type": "markdown",
   "metadata": {},
   "source": [
    "## Open Charge Map API\n",
    "\n",
    "> documentation: https://openchargemap.org/site/develop/api\n",
    "\n",
    "> forum: https://community.openchargemap.org/\n"
   ]
  },
  {
   "cell_type": "code",
   "execution_count": 1,
   "metadata": {},
   "outputs": [],
   "source": [
    "import requests\n",
    "import collections\n"
   ]
  },
  {
   "cell_type": "code",
   "execution_count": 2,
   "metadata": {},
   "outputs": [],
   "source": [
    "# assign API key to variable\n",
    "\n",
    "ocm_key = '****'"
   ]
  },
  {
   "cell_type": "code",
   "execution_count": 3,
   "metadata": {},
   "outputs": [
    {
     "data": {
      "text/plain": [
       "<Response [200]>"
      ]
     },
     "execution_count": 3,
     "metadata": {},
     "output_type": "execute_result"
    }
   ],
   "source": [
    "# test query for GB (Great Britain), 100 results, as single url\n",
    "\n",
    "call = 'https://api.openchargemap.io/v3/poi/?key=ocm_key&output=json&countrycode=GB&maxresults=100&compact=true&verbose=false'\n",
    "req = requests.get(call)\n",
    "req"
   ]
  },
  {
   "cell_type": "code",
   "execution_count": 4,
   "metadata": {},
   "outputs": [
    {
     "name": "stdout",
     "output_type": "stream",
     "text": [
      "<Response [200]>\n"
     ]
    }
   ],
   "source": [
    "# all charging points in a 20 mile radius from Jomec\n",
    "\n",
    "params = {\"key\": ocm_key,\n",
    "          \"countrycode\": \"GB\", \n",
    "          \"output\": \"json\", \n",
    "          \"latitude\": 51.476629314550514, \n",
    "          \"longitude\": -3.1808810080300978, \n",
    "          \"distance\":20,\n",
    "          \"distanceunit\": 'Miles',\n",
    "          \"compact\": True, \n",
    "          \"verbose\": False, \n",
    "          \"maxresults\": 2_000}\n",
    "\n",
    "endpoint = 'https://api.openchargemap.io/v3/poi/?'\n",
    "\n",
    "req = requests.get(endpoint, params = params)\n",
    "print(req)"
   ]
  },
  {
   "cell_type": "code",
   "execution_count": 5,
   "metadata": {},
   "outputs": [
    {
     "data": {
      "text/plain": [
       "185"
      ]
     },
     "execution_count": 5,
     "metadata": {},
     "output_type": "execute_result"
    }
   ],
   "source": [
    "# how many items were returned?\n",
    "\n",
    "len(req.json())"
   ]
  },
  {
   "cell_type": "code",
   "execution_count": 6,
   "metadata": {},
   "outputs": [
    {
     "data": {
      "text/plain": [
       "{'IsRecentlyVerified': True,\n",
       " 'DateLastVerified': '2022-08-23T11:08:00Z',\n",
       " 'ID': 200352,\n",
       " 'UUID': '001E7150-DAB4-4035-81DA-440500D3D0D8',\n",
       " 'DataProviderID': 18,\n",
       " 'DataProvidersReference': 'beca63abda9d65595fafd17918307c03',\n",
       " 'OperatorID': 3341,\n",
       " 'UsageTypeID': 5,\n",
       " 'AddressInfo': {'ID': 200711,\n",
       "  'Title': 'Mardy Street',\n",
       "  'AddressLine1': 'Mardy Street',\n",
       "  'Town': 'Cardiff',\n",
       "  'Postcode': 'CF11 6RD',\n",
       "  'CountryID': 1,\n",
       "  'Latitude': 51.474088,\n",
       "  'Longitude': -3.185956,\n",
       "  'AccessComments': '',\n",
       "  'RelatedURL': 'http://www.aptcontrols.co.uk',\n",
       "  'Distance': 0.2802499324048852,\n",
       "  'DistanceUnit': 2},\n",
       " 'Connections': [{'ID': 334239,\n",
       "   'ConnectionTypeID': 25,\n",
       "   'Reference': 'SEC20034',\n",
       "   'StatusTypeID': 50,\n",
       "   'LevelID': 2,\n",
       "   'Amps': 32,\n",
       "   'Voltage': 230,\n",
       "   'PowerKW': 7.0,\n",
       "   'CurrentTypeID': 10},\n",
       "  {'ID': 334240,\n",
       "   'ConnectionTypeID': 25,\n",
       "   'Reference': 'SEC20034a',\n",
       "   'StatusTypeID': 50,\n",
       "   'LevelID': 2,\n",
       "   'Amps': 32,\n",
       "   'Voltage': 230,\n",
       "   'PowerKW': 7.0,\n",
       "   'CurrentTypeID': 10}],\n",
       " 'StatusTypeID': 0,\n",
       " 'DateLastStatusUpdate': '2022-08-23T11:08:00Z',\n",
       " 'MetadataValues': [{'ID': 20774,\n",
       "   'MetadataFieldID': 4,\n",
       "   'ItemValue': 'Contains public sector information licensed under the Open Government Licence v2.0. http://www.nationalarchives.gov.uk/doc/open-government-licence/version/2/'}],\n",
       " 'DataQualityLevel': 3,\n",
       " 'DateCreated': '2022-08-23T11:08:00Z',\n",
       " 'SubmissionStatusTypeID': 100}"
      ]
     },
     "execution_count": 6,
     "metadata": {},
     "output_type": "execute_result"
    }
   ],
   "source": [
    "# assign to variable and examine first item\n",
    "\n",
    "data = req.json()\n",
    "data[0]"
   ]
  },
  {
   "cell_type": "code",
   "execution_count": 7,
   "metadata": {},
   "outputs": [
    {
     "name": "stdout",
     "output_type": "stream",
     "text": [
      "185\n"
     ]
    }
   ],
   "source": [
    "# assemble list of postcodes\n",
    "\n",
    "pc_list = []\n",
    "\n",
    "for x in data:\n",
    "    \n",
    "    pc = x['AddressInfo']['Postcode']\n",
    "    pc_list.append(pc)\n",
    "\n",
    "print(len(pc_list))"
   ]
  },
  {
   "cell_type": "code",
   "execution_count": 8,
   "metadata": {},
   "outputs": [
    {
     "name": "stdout",
     "output_type": "stream",
     "text": [
      "BS22 9UH\n",
      "BS23 1JP\n",
      "BS23 1UA\n",
      "BS23 1UA\n",
      "BS23 3PT\n",
      "BS23 3YN\n",
      "BS23 3YX\n",
      "BS22 6AQ\n",
      "BS21 7RH\n",
      "BS21 7TU\n",
      "BS21 6RR\n",
      "BS24 8EE\n",
      "BS24 7DX\n",
      "BS21 6LH\n",
      "BS22 7XN\n",
      "BS22 6DB\n",
      "BS20 8JJ\n",
      "BS49 5AD\n",
      "BS49 5AD\n",
      "BS240JB\n",
      "BS20 7DB\n",
      "BS20 7AJ\n",
      "BS20 7DE\n",
      "BS20 7GD\n",
      "BS24 0JL\n",
      "BS26 2UF\n",
      "BS49 5JT\n",
      "BS48 4AH\n",
      "BS48 1AQ\n",
      "BS20 7TN\n"
     ]
    }
   ],
   "source": [
    "# 20 mile radius reaches over to Bristol - bit far!\n",
    "\n",
    "for x in pc_list:\n",
    "    if x.startswith('BS') == True:\n",
    "        print(x)"
   ]
  },
  {
   "cell_type": "code",
   "execution_count": 9,
   "metadata": {},
   "outputs": [
    {
     "data": {
      "text/plain": [
       "93"
      ]
     },
     "execution_count": 9,
     "metadata": {},
     "output_type": "execute_result"
    }
   ],
   "source": [
    "# how many postcodes are CF, Cardiff?\n",
    "        \n",
    "len([x for x in pc_list if x.startswith('CF') == True])"
   ]
  },
  {
   "cell_type": "code",
   "execution_count": null,
   "metadata": {},
   "outputs": [],
   "source": []
  },
  {
   "cell_type": "code",
   "execution_count": 10,
   "metadata": {},
   "outputs": [
    {
     "name": "stdout",
     "output_type": "stream",
     "text": [
      "<Response [200]>\n"
     ]
    }
   ],
   "source": [
    "# Try 200 queries on the UK\n",
    "\n",
    "params = {\"key\": ocm_key,\n",
    "          \"countrycode\": \"GB\", \n",
    "          \"output\": \"json\", \n",
    "          \"compact\": True, \n",
    "          \"verbose\": False, \n",
    "          \"maxresults\": 200}\n",
    "\n",
    "endpoint = 'https://api.openchargemap.io/v3/poi/?'\n",
    "\n",
    "req = requests.get(endpoint, params = params)\n",
    "data = req.json()\n",
    "print(req)"
   ]
  },
  {
   "cell_type": "code",
   "execution_count": 11,
   "metadata": {},
   "outputs": [],
   "source": [
    "# empty lists to collect cities, and postcodes (and the IDs of problem entries)\n",
    "\n",
    "city_list = []\n",
    "pc_list = []\n",
    "problem_list = []\n",
    "\n",
    "for x in data:\n",
    "    \n",
    "    try:\n",
    "        town = x['AddressInfo']['Town']\n",
    "        pc = x['AddressInfo']['Postcode']\n",
    "\n",
    "        city_list.append(town)\n",
    "        pc_list.append(pc)\n",
    "    \n",
    "    except:\n",
    "        problem_list.append(x['ID'])\n",
    "        pass\n",
    "\n",
    "# build a frequency distribution dictionary for cities, then postcodes\n",
    "counter = collections.Counter(city_list)\n",
    "city_freq_dict = dict(counter)\n",
    "\n",
    "counter = collections.Counter(pc_list)\n",
    "pc_freq_dict = dict(counter)"
   ]
  },
  {
   "cell_type": "code",
   "execution_count": 12,
   "metadata": {},
   "outputs": [
    {
     "name": "stdout",
     "output_type": "stream",
     "text": [
      "190\n",
      "190\n",
      "10\n"
     ]
    }
   ],
   "source": [
    "# check the number of towns and postcodes gathered, from the 200 entries\n",
    "\n",
    "print(len(city_list))\n",
    "print(len(pc_list))\n",
    "\n",
    "# and the number of problems\n",
    "print(len(problem_list))"
   ]
  },
  {
   "cell_type": "code",
   "execution_count": 13,
   "metadata": {},
   "outputs": [
    {
     "data": {
      "text/plain": [
       "{'Colchester': 6,\n",
       " 'Bristol': 5,\n",
       " 'Belfast': 5,\n",
       " 'London': 5,\n",
       " 'Cherwell': 5,\n",
       " 'Swindon': 3,\n",
       " 'Henley-on-Thames': 3,\n",
       " 'Thame': 3,\n",
       " 'Aberdeen': 3,\n",
       " 'West Oxfordshire': 3,\n",
       " 'Gloucester': 2,\n",
       " 'Edinburgh': 2,\n",
       " 'Holywood': 2,\n",
       " 'Borehamwood': 2,\n",
       " 'Cirencester': 2,\n",
       " 'Cambridge': 2,\n",
       " 'Stranraer': 2,\n",
       " 'Darlington': 2,\n",
       " 'Dewsbury': 2,\n",
       " 'Yeovil': 2,\n",
       " 'Torpoint': 1,\n",
       " 'Ely': 1,\n",
       " 'Gateshead': 1,\n",
       " 'Anwick': 1,\n",
       " 'Coniston': 1,\n",
       " 'Highbridge': 1,\n",
       " 'Thurso': 1,\n",
       " 'Stafford': 1,\n",
       " 'Newbury': 1,\n",
       " 'Rhyl': 1,\n",
       " 'Ashbourne': 1,\n",
       " 'Westwood': 1,\n",
       " 'Hartlepool': 1,\n",
       " 'St Blazey': 1,\n",
       " 'Bradford': 1,\n",
       " 'Portadown': 1,\n",
       " \"St. David's\": 1,\n",
       " 'Scunthorpe': 1,\n",
       " 'Excelsior Road': 1,\n",
       " 'Newport': 1,\n",
       " 'Coylton': 1,\n",
       " 'The Parade': 1,\n",
       " 'Ullapool': 1,\n",
       " 'Cayton Bay': 1,\n",
       " 'Banbridge': 1,\n",
       " 'Gillingham': 1,\n",
       " 'Staple Hill': 1,\n",
       " 'Lechlade': 1,\n",
       " 'Plymouth': 1,\n",
       " 'Aldershot': 1,\n",
       " 'Dungannon': 1,\n",
       " 'Ballygomartin': 1,\n",
       " 'Linwood': 1,\n",
       " 'Stockton-on-Tees': 1,\n",
       " 'Acton': 1,\n",
       " 'South Oxhey': 1,\n",
       " 'Rickmansworth': 1,\n",
       " 'Tiverton': 1,\n",
       " 'Radstock': 1,\n",
       " 'Bexhill-on-Sea': 1,\n",
       " 'Blyth': 1,\n",
       " 'Washington': 1,\n",
       " 'Sandwich': 1,\n",
       " 'Ossett': 1,\n",
       " 'Salisbury ': 1,\n",
       " 'Lutterworth ': 1,\n",
       " 'Canterbury': 1,\n",
       " 'Frome': 1,\n",
       " 'Torquay': 1,\n",
       " 'Swanscombe': 1,\n",
       " 'Carshalton': 1,\n",
       " 'Maghera': 1,\n",
       " 'Omagh': 1,\n",
       " 'Edwinstowe ': 1,\n",
       " 'Abindgon': 1,\n",
       " 'Rotherham': 1,\n",
       " 'Blackburn': 1,\n",
       " 'Werrington': 1,\n",
       " 'Hitchin': 1,\n",
       " 'Narberth': 1,\n",
       " 'Redcar': 1,\n",
       " 'Lochcarron': 1,\n",
       " 'Kingsbrook': 1,\n",
       " 'Warner - Heythrop Park': 1,\n",
       " 'Aweldeg': 1,\n",
       " 'Addlestone': 1,\n",
       " 'Pinner': 1,\n",
       " 'Abingdon': 1,\n",
       " 'Crickhowell': 1,\n",
       " 'Gaywood': 1,\n",
       " 'Cardiff': 1,\n",
       " 'Stevenage': 1,\n",
       " 'Harrogate': 1,\n",
       " 'Billingshurst': 1,\n",
       " 'Castleford': 1,\n",
       " 'Warwick': 1,\n",
       " 'Girvan': 1,\n",
       " 'Edmonton': 1,\n",
       " 'Ealing Road': 1,\n",
       " 'Crawford': 1,\n",
       " 'Brent Cross': 1,\n",
       " 'Carlton': 1,\n",
       " 'Epping': 1,\n",
       " 'Weybridge': 1,\n",
       " 'Chard': 1,\n",
       " 'High Wycombe': 1,\n",
       " 'Snowdonia': 1,\n",
       " 'Buckinghamshire': 1,\n",
       " 'Birmingham': 1,\n",
       " 'Norwich': 1,\n",
       " 'Carlisle': 1,\n",
       " 'Horley': 1,\n",
       " 'Hayes': 1,\n",
       " 'Milton Keynes': 1,\n",
       " 'Ashford': 1,\n",
       " 'Ferndown': 1,\n",
       " 'Wimborne Minster': 1,\n",
       " 'Watford': 1,\n",
       " 'St Albans': 1,\n",
       " 'Amersham': 1,\n",
       " 'Chipping Norton': 1,\n",
       " 'Pentre Halkyn': 1,\n",
       " 'Beckley': 1,\n",
       " 'Southport': 1,\n",
       " \"St Luke's Campus\": 1,\n",
       " 'Bellshill': 1,\n",
       " 'Manchester': 1,\n",
       " 'Barnstaple': 1,\n",
       " 'Kinross': 1,\n",
       " 'Busher Walk': 1,\n",
       " 'Slough': 1,\n",
       " 'Bentham': 1,\n",
       " 'Thirsk': 1,\n",
       " 'Knottingley': 1,\n",
       " 'Banbury': 1,\n",
       " 'Broadstairs': 1,\n",
       " 'Nuneaton': 1,\n",
       " 'Stirling': 1,\n",
       " 'Bruton': 1,\n",
       " 'Bicester': 1,\n",
       " 'Cleckheaton': 1,\n",
       " 'Portsoy': 1,\n",
       " 'North Devon': 1,\n",
       " 'Basingstoke': 1,\n",
       " 'Liverpool': 1,\n",
       " 'Trafford': 1,\n",
       " 'Talbot Green': 1,\n",
       " 'Pengam Green': 1,\n",
       " 'Exeter': 1}"
      ]
     },
     "execution_count": 13,
     "metadata": {},
     "output_type": "execute_result"
    }
   ],
   "source": [
    "# from a (not at all random) sample of 200 entries, how are UK cities represented?\n",
    "\n",
    "dict(sorted(city_freq_dict.items(), key=lambda item: item[1], reverse = True))\n"
   ]
  },
  {
   "cell_type": "code",
   "execution_count": null,
   "metadata": {},
   "outputs": [],
   "source": []
  }
 ],
 "metadata": {
  "kernelspec": {
   "display_name": "Python 3",
   "language": "python",
   "name": "python3"
  },
  "language_info": {
   "codemirror_mode": {
    "name": "ipython",
    "version": 3
   },
   "file_extension": ".py",
   "mimetype": "text/x-python",
   "name": "python",
   "nbconvert_exporter": "python",
   "pygments_lexer": "ipython3",
   "version": "3.8.9"
  }
 },
 "nbformat": 4,
 "nbformat_minor": 4
}