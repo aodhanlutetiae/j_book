{
 "cells": [
  {
   "cell_type": "markdown",
   "metadata": {},
   "source": [
    "## Open Charge Map API\n",
    "\n",
    "> documentation: https://openchargemap.org/site/develop/api\n",
    "\n",
    "> forum: https://community.openchargemap.org/\n"
   ]
  },
  {
   "cell_type": "code",
   "execution_count": 1,
   "metadata": {},
   "outputs": [],
   "source": [
    "import requests\n",
    "import collections\n"
   ]
  },
  {
   "cell_type": "code",
   "execution_count": 2,
   "metadata": {},
   "outputs": [],
   "source": [
    "# assign API key to variable\n",
    "\n",
    "ocm_key = '****'"
   ]
  },
  {
   "cell_type": "code",
   "execution_count": 3,
   "metadata": {},
   "outputs": [
    {
     "data": {
      "text/plain": [
       "<Response [200]>"
      ]
     },
     "execution_count": 3,
     "metadata": {},
     "output_type": "execute_result"
    }
   ],
   "source": [
    "# test query for GB (Great Britain), 100 results, as single url\n",
    "\n",
    "call = 'https://api.openchargemap.io/v3/poi/?key=ocm_key&output=json&countrycode=GB&maxresults=100&compact=true&verbose=false'\n",
    "req = requests.get(call)\n",
    "req"
   ]
  },
  {
   "cell_type": "code",
   "execution_count": 4,
   "metadata": {},
   "outputs": [
    {
     "name": "stdout",
     "output_type": "stream",
     "text": [
      "<Response [200]>\n"
     ]
    }
   ],
   "source": [
    "# all charging points in a 20 mile radius from Jomec\n",
    "\n",
    "params = {\"key\": ocm_key,\n",
    "          \"countrycode\": \"GB\", \n",
    "          \"output\": \"json\", \n",
    "          \"latitude\": 51.476629314550514, \n",
    "          \"longitude\": -3.1808810080300978, \n",
    "          \"distance\":20,\n",
    "          \"distanceunit\": 'Miles',\n",
    "          \"compact\": True, \n",
    "          \"verbose\": False, \n",
    "          \"maxresults\": 2_000}\n",
    "\n",
    "endpoint = 'https://api.openchargemap.io/v3/poi/?'\n",
    "\n",
    "req = requests.get(endpoint, params = params)\n",
    "print(req)"
   ]
  },
  {
   "cell_type": "code",
   "execution_count": 5,
   "metadata": {},
   "outputs": [
    {
     "data": {
      "text/plain": [
       "180"
      ]
     },
     "execution_count": 5,
     "metadata": {},
     "output_type": "execute_result"
    }
   ],
   "source": [
    "# how many items were returned?\n",
    "\n",
    "len(req.json())"
   ]
  },
  {
   "cell_type": "code",
   "execution_count": 6,
   "metadata": {},
   "outputs": [
    {
     "data": {
      "text/plain": [
       "{'IsRecentlyVerified': True,\n",
       " 'DateLastVerified': '2022-08-23T11:08:00Z',\n",
       " 'ID': 200352,\n",
       " 'UUID': '001E7150-DAB4-4035-81DA-440500D3D0D8',\n",
       " 'DataProviderID': 18,\n",
       " 'DataProvidersReference': 'beca63abda9d65595fafd17918307c03',\n",
       " 'OperatorID': 3341,\n",
       " 'UsageTypeID': 5,\n",
       " 'AddressInfo': {'ID': 200711,\n",
       "  'Title': 'Mardy Street',\n",
       "  'AddressLine1': 'Mardy Street',\n",
       "  'Town': 'Cardiff',\n",
       "  'Postcode': 'CF11 6RD',\n",
       "  'CountryID': 1,\n",
       "  'Latitude': 51.474088,\n",
       "  'Longitude': -3.185956,\n",
       "  'AccessComments': '',\n",
       "  'RelatedURL': 'http://www.aptcontrols.co.uk',\n",
       "  'Distance': 0.2802499324048852,\n",
       "  'DistanceUnit': 2},\n",
       " 'Connections': [{'ID': 334239,\n",
       "   'ConnectionTypeID': 25,\n",
       "   'Reference': 'SEC20034',\n",
       "   'StatusTypeID': 50,\n",
       "   'LevelID': 2,\n",
       "   'Amps': 32,\n",
       "   'Voltage': 230,\n",
       "   'PowerKW': 7.0,\n",
       "   'CurrentTypeID': 10},\n",
       "  {'ID': 334240,\n",
       "   'ConnectionTypeID': 25,\n",
       "   'Reference': 'SEC20034a',\n",
       "   'StatusTypeID': 50,\n",
       "   'LevelID': 2,\n",
       "   'Amps': 32,\n",
       "   'Voltage': 230,\n",
       "   'PowerKW': 7.0,\n",
       "   'CurrentTypeID': 10}],\n",
       " 'StatusTypeID': 0,\n",
       " 'DateLastStatusUpdate': '2022-08-23T11:08:00Z',\n",
       " 'MetadataValues': [{'ID': 20774,\n",
       "   'MetadataFieldID': 4,\n",
       "   'ItemValue': 'Contains public sector information licensed under the Open Government Licence v2.0. http://www.nationalarchives.gov.uk/doc/open-government-licence/version/2/'}],\n",
       " 'DataQualityLevel': 3,\n",
       " 'DateCreated': '2022-08-23T11:08:00Z',\n",
       " 'SubmissionStatusTypeID': 100}"
      ]
     },
     "execution_count": 6,
     "metadata": {},
     "output_type": "execute_result"
    }
   ],
   "source": [
    "# assign to variable and examine first item\n",
    "\n",
    "data = req.json()\n",
    "data[0]"
   ]
  },
  {
   "cell_type": "code",
   "execution_count": 7,
   "metadata": {},
   "outputs": [
    {
     "name": "stdout",
     "output_type": "stream",
     "text": [
      "180\n"
     ]
    }
   ],
   "source": [
    "# assemble list of postcodes\n",
    "\n",
    "pc_list = []\n",
    "\n",
    "for x in data:\n",
    "    \n",
    "    pc = x['AddressInfo']['Postcode']\n",
    "    pc_list.append(pc)\n",
    "\n",
    "print(len(pc_list))"
   ]
  },
  {
   "cell_type": "code",
   "execution_count": 8,
   "metadata": {},
   "outputs": [
    {
     "name": "stdout",
     "output_type": "stream",
     "text": [
      "BS22 9UH\n",
      "BS23 1JP\n",
      "BS23 1UA\n",
      "BS23 1UA\n",
      "BS23 3PT\n",
      "BS23 3YN\n",
      "BS23 3YX\n",
      "BS22 6AQ\n",
      "BS21 7RH\n",
      "BS21 7TU\n",
      "BS21 6RR\n",
      "BS24 8EE\n",
      "BS24 7DX\n",
      "BS21 6LH\n",
      "BS22 7XN\n",
      "BS22 6DB\n",
      "BS20 8JJ\n",
      "BS49 5AD\n",
      "BS49 5AD\n",
      "BS240JB\n",
      "BS20 7DB\n",
      "BS20 7AJ\n",
      "BS20 7DE\n",
      "BS20 7GD\n",
      "BS24 0JL\n",
      "BS26 2UF\n",
      "BS48 4AH\n",
      "BS48 1AQ\n",
      "BS20 7TN\n"
     ]
    }
   ],
   "source": [
    "# 20 mile radius reaches over to Bristol - bit far!\n",
    "\n",
    "for x in pc_list:\n",
    "    if x.startswith('BS') == True:\n",
    "        print(x)"
   ]
  },
  {
   "cell_type": "code",
   "execution_count": 9,
   "metadata": {},
   "outputs": [
    {
     "data": {
      "text/plain": [
       "91"
      ]
     },
     "execution_count": 9,
     "metadata": {},
     "output_type": "execute_result"
    }
   ],
   "source": [
    "# how many postcodes are CF, Cardiff?\n",
    "        \n",
    "len([x for x in pc_list if x.startswith('CF') == True])"
   ]
  },
  {
   "cell_type": "code",
   "execution_count": null,
   "metadata": {},
   "outputs": [],
   "source": []
  },
  {
   "cell_type": "code",
   "execution_count": 10,
   "metadata": {},
   "outputs": [
    {
     "name": "stdout",
     "output_type": "stream",
     "text": [
      "<Response [200]>\n"
     ]
    }
   ],
   "source": [
    "# Try 200 queries on the UK\n",
    "\n",
    "params = {\"key\": ocm_key,\n",
    "          \"countrycode\": \"GB\", \n",
    "          \"output\": \"json\", \n",
    "          \"compact\": True, \n",
    "          \"verbose\": False, \n",
    "          \"maxresults\": 200}\n",
    "\n",
    "endpoint = 'https://api.openchargemap.io/v3/poi/?'\n",
    "\n",
    "req = requests.get(endpoint, params = params)\n",
    "data = req.json()\n",
    "print(req)"
   ]
  },
  {
   "cell_type": "code",
   "execution_count": 11,
   "metadata": {},
   "outputs": [],
   "source": [
    "# empty lists to collect cities, and postcodes (and the IDs of problem entries)\n",
    "\n",
    "city_list = []\n",
    "pc_list = []\n",
    "problem_list = []\n",
    "\n",
    "for x in data:\n",
    "    \n",
    "    try:\n",
    "        town = x['AddressInfo']['Town']\n",
    "        pc = x['AddressInfo']['Postcode']\n",
    "\n",
    "        city_list.append(town)\n",
    "        pc_list.append(pc)\n",
    "    \n",
    "    except:\n",
    "        problem_list.append(x['ID'])\n",
    "        pass\n",
    "\n",
    "# build a frequency distribution dictionary for cities, then postcodes\n",
    "counter = collections.Counter(city_list)\n",
    "city_freq_dict = dict(counter)\n",
    "\n",
    "counter = collections.Counter(pc_list)\n",
    "pc_freq_dict = dict(counter)"
   ]
  },
  {
   "cell_type": "code",
   "execution_count": 12,
   "metadata": {},
   "outputs": [
    {
     "name": "stdout",
     "output_type": "stream",
     "text": [
      "197\n",
      "197\n",
      "3\n"
     ]
    }
   ],
   "source": [
    "# check the number of towns and postcodes gathered, from the 200 entries\n",
    "\n",
    "print(len(city_list))\n",
    "print(len(pc_list))\n",
    "\n",
    "# and the number of problems\n",
    "print(len(problem_list))"
   ]
  },
  {
   "cell_type": "code",
   "execution_count": 13,
   "metadata": {},
   "outputs": [
    {
     "data": {
      "text/plain": [
       "{'Cherwell': 8,\n",
       " 'Edinburgh': 5,\n",
       " 'Aberdeen': 4,\n",
       " 'Bicester': 3,\n",
       " 'London': 3,\n",
       " 'Liverpool': 3,\n",
       " 'Glasgow': 3,\n",
       " 'Dundee': 3,\n",
       " 'Birmingham': 3,\n",
       " 'Chippenham': 3,\n",
       " 'Kilmarnock': 3,\n",
       " 'Thirsk': 2,\n",
       " 'Bristol': 2,\n",
       " 'Stirling': 2,\n",
       " 'West Oxfordshire': 2,\n",
       " 'Yeovil': 2,\n",
       " 'Colchester': 2,\n",
       " 'Banbury': 2,\n",
       " 'Renfrew': 2,\n",
       " 'Hawick': 2,\n",
       " 'Bradford': 2,\n",
       " 'Wyre': 2,\n",
       " 'Fylde': 2,\n",
       " 'Swindon': 2,\n",
       " 'Stamford': 2,\n",
       " 'Saint Helens': 2,\n",
       " 'Llangefni': 2,\n",
       " 'Montrose': 2,\n",
       " 'Isle of North Uist': 2,\n",
       " 'Portree': 2,\n",
       " 'Alexandria': 2,\n",
       " 'Dalkeith': 2,\n",
       " 'Bathgate': 2,\n",
       " 'Paisley': 2,\n",
       " 'Ayr': 2,\n",
       " 'Knottingley': 1,\n",
       " 'Broadstairs': 1,\n",
       " 'Nuneaton': 1,\n",
       " 'Bruton': 1,\n",
       " 'Cleckheaton': 1,\n",
       " 'Portsoy': 1,\n",
       " 'North Devon': 1,\n",
       " 'Darlington': 1,\n",
       " 'Basingstoke': 1,\n",
       " 'Talbot Green': 1,\n",
       " 'Pengam Green': 1,\n",
       " 'Exeter': 1,\n",
       " 'Stow-on-the-Wold': 1,\n",
       " 'Marlborough': 1,\n",
       " 'Eastville': 1,\n",
       " 'Bordon': 1,\n",
       " 'Hungerford': 1,\n",
       " 'Ingleton': 1,\n",
       " 'Towyn Road': 1,\n",
       " 'Crosshills': 1,\n",
       " 'Gargrave': 1,\n",
       " 'Priory Way': 1,\n",
       " 'Burslem': 1,\n",
       " 'Avenue Two': 1,\n",
       " 'Spring Gardens': 1,\n",
       " 'Brixton Hill': 1,\n",
       " 'Chesterfield': 1,\n",
       " 'Langley Moor': 1,\n",
       " 'Painters Forstal': 1,\n",
       " 'Llanwnda': 1,\n",
       " 'Brixton': 1,\n",
       " 'Wick': 1,\n",
       " 'South Cambridgeshire': 1,\n",
       " 'Salford': 1,\n",
       " 'Balsall Heath': 1,\n",
       " 'Bispham': 1,\n",
       " 'Lytham Saint Annes': 1,\n",
       " 'Newark': 1,\n",
       " 'South Cliff': 1,\n",
       " '3rd Floor': 1,\n",
       " 'Houghton Regis': 1,\n",
       " 'Droitwich Road': 1,\n",
       " 'Manchester': 1,\n",
       " 'Tiverton': 1,\n",
       " 'Sudbury': 1,\n",
       " 'Hayling Island': 1,\n",
       " 'Robertsbridge': 1,\n",
       " 'Isleworth': 1,\n",
       " 'Retail Park': 1,\n",
       " 'Foleshill': 1,\n",
       " 'Squires Lane': 1,\n",
       " 'Battle': 1,\n",
       " 'Tunstall': 1,\n",
       " 'Watton': 1,\n",
       " 'Weybridge': 1,\n",
       " 'Pontardawe': 1,\n",
       " 'Stockton-on-Tees': 1,\n",
       " ' Gosport': 1,\n",
       " 'Hereford': 1,\n",
       " 'Bracknell': 1,\n",
       " 'Worcester': 1,\n",
       " 'Radcliffe': 1,\n",
       " 'Darnell': 1,\n",
       " 'Aberdare': 1,\n",
       " 'Milford on Sea': 1,\n",
       " 'Penparcau': 1,\n",
       " 'Cardiff': 1,\n",
       " 'Middlesbrough': 1,\n",
       " 'Seaham': 1,\n",
       " 'Pwllheli': 1,\n",
       " 'Amlwch': 1,\n",
       " 'Holyhead': 1,\n",
       " 'Menai Bridge': 1,\n",
       " 'Bournemouth': 1,\n",
       " 'Lower Village': 1,\n",
       " 'Ellon': 1,\n",
       " 'Kirkwall': 1,\n",
       " 'Lairg': 1,\n",
       " 'Thurso': 1,\n",
       " 'The Links, Golspie Business Pa': 1,\n",
       " 'Isle of Harris': 1,\n",
       " 'Fraserburgh': 1,\n",
       " 'Inverness': 1,\n",
       " 'Aberfeldy': 1,\n",
       " 'Perth': 1,\n",
       " 'Lochearnhead': 1,\n",
       " 'Blair Drummond': 1,\n",
       " 'Kirkcaldy': 1,\n",
       " 'North Berwick': 1,\n",
       " 'Whitekirk': 1,\n",
       " 'Brightons ': 1,\n",
       " 'Falkirk': 1,\n",
       " 'Dunbar': 1,\n",
       " 'Longniddry': 1,\n",
       " 'Croy Park and Ride': 1,\n",
       " 'Prestonpans': 1,\n",
       " 'Haddington': 1,\n",
       " 'Macmerry': 1,\n",
       " 'Newbridge': 1,\n",
       " 'Inveresk': 1,\n",
       " 'Clydebank': 1,\n",
       " 'Johnstone': 1,\n",
       " ' Berwick-upon-Tweed': 1,\n",
       " 'East Kilbride': 1,\n",
       " 'Duns': 1,\n",
       " 'Newton Stewart': 1,\n",
       " 'Ashington': 1,\n",
       " 'Cramlington': 1}"
      ]
     },
     "execution_count": 13,
     "metadata": {},
     "output_type": "execute_result"
    }
   ],
   "source": [
    "# from a (not at all random) sample of 200 entries, how are UK cities represented?\n",
    "\n",
    "dict(sorted(city_freq_dict.items(), key=lambda item: item[1], reverse = True))\n"
   ]
  },
  {
   "cell_type": "code",
   "execution_count": null,
   "metadata": {},
   "outputs": [],
   "source": []
  }
 ],
 "metadata": {
  "kernelspec": {
   "display_name": "Python 3",
   "language": "python",
   "name": "python3"
  },
  "language_info": {
   "codemirror_mode": {
    "name": "ipython",
    "version": 3
   },
   "file_extension": ".py",
   "mimetype": "text/x-python",
   "name": "python",
   "nbconvert_exporter": "python",
   "pygments_lexer": "ipython3",
   "version": "3.7.9"
  }
 },
 "nbformat": 4,
 "nbformat_minor": 4
}