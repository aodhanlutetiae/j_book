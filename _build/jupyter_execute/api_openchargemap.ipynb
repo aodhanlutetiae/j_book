{
 "cells": [
  {
   "cell_type": "markdown",
   "metadata": {},
   "source": [
    "## Open Charge Map API\n",
    "\n",
    "> documentation: https://openchargemap.org/site/develop/api\n",
    "\n",
    "> forum: https://community.openchargemap.org/\n"
   ]
  },
  {
   "cell_type": "code",
   "execution_count": 1,
   "metadata": {},
   "outputs": [],
   "source": [
    "import requests\n",
    "import collections\n"
   ]
  },
  {
   "cell_type": "code",
   "execution_count": 2,
   "metadata": {},
   "outputs": [],
   "source": [
    "# assign API key to variable\n",
    "\n",
    "ocm_key = '****'"
   ]
  },
  {
   "cell_type": "code",
   "execution_count": 3,
   "metadata": {},
   "outputs": [
    {
     "data": {
      "text/plain": [
       "<Response [200]>"
      ]
     },
     "execution_count": 3,
     "metadata": {},
     "output_type": "execute_result"
    }
   ],
   "source": [
    "# test query for GB (Great Britain), 100 results, as single url\n",
    "\n",
    "call = 'https://api.openchargemap.io/v3/poi/?key=ocm_key&output=json&countrycode=GB&maxresults=100&compact=true&verbose=false'\n",
    "req = requests.get(call)\n",
    "req"
   ]
  },
  {
   "cell_type": "code",
   "execution_count": 4,
   "metadata": {},
   "outputs": [
    {
     "name": "stdout",
     "output_type": "stream",
     "text": [
      "<Response [200]>\n"
     ]
    }
   ],
   "source": [
    "# all charging points in a 20 mile radius from Jomec\n",
    "\n",
    "params = {\"key\": ocm_key,\n",
    "          \"countrycode\": \"GB\", \n",
    "          \"output\": \"json\", \n",
    "          \"latitude\": 51.476629314550514, \n",
    "          \"longitude\": -3.1808810080300978, \n",
    "          \"distance\":20,\n",
    "          \"distanceunit\": 'Miles',\n",
    "          \"compact\": True, \n",
    "          \"verbose\": False, \n",
    "          \"maxresults\": 2_000}\n",
    "\n",
    "endpoint = 'https://api.openchargemap.io/v3/poi/?'\n",
    "\n",
    "req = requests.get(endpoint, params = params)\n",
    "print(req)"
   ]
  },
  {
   "cell_type": "code",
   "execution_count": 5,
   "metadata": {},
   "outputs": [
    {
     "data": {
      "text/plain": [
       "135"
      ]
     },
     "execution_count": 5,
     "metadata": {},
     "output_type": "execute_result"
    }
   ],
   "source": [
    "# how many items were returned?\n",
    "\n",
    "len(req.json())"
   ]
  },
  {
   "cell_type": "code",
   "execution_count": 6,
   "metadata": {},
   "outputs": [
    {
     "data": {
      "text/plain": [
       "{'IsRecentlyVerified': False,\n",
       " 'DateLastVerified': '2018-10-03T15:07:00Z',\n",
       " 'ID': 88787,\n",
       " 'UUID': 'FED58EBC-4C2B-4D67-B13F-8B2ADA11FC1C',\n",
       " 'DataProviderID': 1,\n",
       " 'OperatorID': 23,\n",
       " 'OperatorsReference': '30531',\n",
       " 'UsageTypeID': 4,\n",
       " 'AddressInfo': {'ID': 89133,\n",
       "  'Title': \"St David's Shopping Centre\",\n",
       "  'AddressLine1': \"St David's Shopping Centre Bridge Street Arcade\",\n",
       "  'StateOrProvince': 'Cardiff',\n",
       "  'Postcode': 'CF10 2EQ',\n",
       "  'CountryID': 1,\n",
       "  'Latitude': 51.479103,\n",
       "  'Longitude': -3.174819,\n",
       "  'ContactTelephone1': '+44 292 036 7650',\n",
       "  'Distance': 0.31188723957969405,\n",
       "  'DistanceUnit': 2},\n",
       " 'Connections': [{'ID': 126035,\n",
       "   'ConnectionTypeID': 30,\n",
       "   'StatusTypeID': 50,\n",
       "   'LevelID': 2,\n",
       "   'Amps': 32,\n",
       "   'Voltage': 230,\n",
       "   'PowerKW': 13.0,\n",
       "   'CurrentTypeID': 20,\n",
       "   'Quantity': 2}],\n",
       " 'NumberOfPoints': 2,\n",
       " 'GeneralComments': '2 Tesla Connectors, up to 13kW.Available for customers. Self park.',\n",
       " 'StatusTypeID': 50,\n",
       " 'DateLastStatusUpdate': '2018-10-03T15:07:00Z',\n",
       " 'DataQualityLevel': 1,\n",
       " 'DateCreated': '2017-06-09T13:39:00Z',\n",
       " 'SubmissionStatusTypeID': 200}"
      ]
     },
     "execution_count": 6,
     "metadata": {},
     "output_type": "execute_result"
    }
   ],
   "source": [
    "# assign to variable and examine first item\n",
    "\n",
    "data = req.json()\n",
    "data[0]"
   ]
  },
  {
   "cell_type": "code",
   "execution_count": 7,
   "metadata": {},
   "outputs": [
    {
     "name": "stdout",
     "output_type": "stream",
     "text": [
      "135\n"
     ]
    }
   ],
   "source": [
    "# assemble list of postcodes\n",
    "\n",
    "pc_list = []\n",
    "\n",
    "for x in data:\n",
    "    \n",
    "    pc = x['AddressInfo']['Postcode']\n",
    "    pc_list.append(pc)\n",
    "\n",
    "print(len(pc_list))"
   ]
  },
  {
   "cell_type": "code",
   "execution_count": 8,
   "metadata": {},
   "outputs": [
    {
     "name": "stdout",
     "output_type": "stream",
     "text": [
      "BS22 9UH\n",
      "BS23 1JP\n",
      "BS23 1UA\n",
      "BS23 1UA\n",
      "BS23 3PT\n",
      "BS23 3YN\n",
      "BS23 3YX\n",
      "BS22 6AQ\n",
      "BS21 7RH\n",
      "BS21 7TU\n",
      "BS21 6RR\n",
      "BS24 8EE\n",
      "BS24 7DX\n",
      "BS21 6LH\n",
      "BS22 7XN\n",
      "BS22 6DB\n",
      "BS20 8JJ\n",
      "BS49 5AD\n",
      "BS49 5AD\n",
      "BS240JB\n",
      "BS20 7DB\n",
      "BS20 7DE\n",
      "BS20 7GD\n",
      "BS24 0JL\n",
      "BS26 2UF\n",
      "BS48 4AH\n",
      "BS48 1AQ\n",
      "BS20 7TN\n"
     ]
    }
   ],
   "source": [
    "# 20 mile radius reaches over to Bristol - bit far!\n",
    "\n",
    "for x in pc_list:\n",
    "    if x.startswith('BS') == True:\n",
    "        print(x)"
   ]
  },
  {
   "cell_type": "code",
   "execution_count": 9,
   "metadata": {},
   "outputs": [
    {
     "data": {
      "text/plain": [
       "69"
      ]
     },
     "execution_count": 9,
     "metadata": {},
     "output_type": "execute_result"
    }
   ],
   "source": [
    "# how many postcodes are CF, Cardiff?\n",
    "        \n",
    "len([x for x in pc_list if x.startswith('CF') == True])"
   ]
  },
  {
   "cell_type": "code",
   "execution_count": null,
   "metadata": {},
   "outputs": [],
   "source": []
  },
  {
   "cell_type": "code",
   "execution_count": 10,
   "metadata": {},
   "outputs": [
    {
     "name": "stdout",
     "output_type": "stream",
     "text": [
      "<Response [200]>\n"
     ]
    }
   ],
   "source": [
    "# Try 200 queries on the UK\n",
    "\n",
    "params = {\"key\": ocm_key,\n",
    "          \"countrycode\": \"GB\", \n",
    "          \"output\": \"json\", \n",
    "          \"compact\": True, \n",
    "          \"verbose\": False, \n",
    "          \"maxresults\": 200}\n",
    "\n",
    "endpoint = 'https://api.openchargemap.io/v3/poi/?'\n",
    "\n",
    "req = requests.get(endpoint, params = params)\n",
    "data = req.json()\n",
    "print(req)"
   ]
  },
  {
   "cell_type": "code",
   "execution_count": 11,
   "metadata": {},
   "outputs": [],
   "source": [
    "# empty lists to collect cities, and postcodes (and the IDs of problem entries)\n",
    "\n",
    "city_list = []\n",
    "pc_list = []\n",
    "problem_list = []\n",
    "\n",
    "for x in data:\n",
    "    \n",
    "    try:\n",
    "        town = x['AddressInfo']['Town']\n",
    "        pc = x['AddressInfo']['Postcode']\n",
    "\n",
    "        city_list.append(town)\n",
    "        pc_list.append(pc)\n",
    "    \n",
    "    except:\n",
    "        problem_list.append(x['ID'])\n",
    "        pass\n",
    "\n",
    "# build a frequency distribution dictionary for cities, then postcodes\n",
    "counter = collections.Counter(city_list)\n",
    "city_freq_dict = dict(counter)\n",
    "\n",
    "counter = collections.Counter(pc_list)\n",
    "pc_freq_dict = dict(counter)"
   ]
  },
  {
   "cell_type": "code",
   "execution_count": 12,
   "metadata": {},
   "outputs": [
    {
     "name": "stdout",
     "output_type": "stream",
     "text": [
      "196\n",
      "196\n",
      "4\n"
     ]
    }
   ],
   "source": [
    "# check the number of towns and postcodes gathered, from the 200 entries\n",
    "\n",
    "print(len(city_list))\n",
    "print(len(pc_list))\n",
    "\n",
    "# and the number of problems\n",
    "print(len(problem_list))"
   ]
  },
  {
   "cell_type": "code",
   "execution_count": 13,
   "metadata": {},
   "outputs": [
    {
     "data": {
      "text/plain": [
       "{'London': 24,\n",
       " 'Newbury': 4,\n",
       " 'Norwich': 4,\n",
       " 'Swindon': 4,\n",
       " 'Birmingham': 3,\n",
       " 'Stockport': 3,\n",
       " 'Dundee': 3,\n",
       " 'South Shields': 3,\n",
       " 'Lewes': 2,\n",
       " 'Cambridge': 2,\n",
       " 'Falkirk': 2,\n",
       " 'Gloucester': 2,\n",
       " 'Brighouse': 2,\n",
       " 'Chichester': 2,\n",
       " 'Amesbury': 2,\n",
       " 'Fife': 2,\n",
       " 'Glasgow': 2,\n",
       " 'Newcastle': 2,\n",
       " 'Newcastle upon Tyne': 2,\n",
       " 'Newcastle Upon Tyne': 2,\n",
       " 'Chepstow': 1,\n",
       " 'Llanidloes': 1,\n",
       " 'Melksham': 1,\n",
       " 'Christchurch': 1,\n",
       " 'Walsall': 1,\n",
       " 'Rochford': 1,\n",
       " 'Fareham': 1,\n",
       " 'Greater Manchester': 1,\n",
       " 'Ryde': 1,\n",
       " 'Kidderminster': 1,\n",
       " 'Bargoed': 1,\n",
       " 'Hamilton': 1,\n",
       " 'Purfleet': 1,\n",
       " 'Upton-on-Severn': 1,\n",
       " 'Brynmawr': 1,\n",
       " 'Rotherham': 1,\n",
       " 'Stanmer': 1,\n",
       " 'Reading': 1,\n",
       " 'Portsmouth': 1,\n",
       " 'High Pittington': 1,\n",
       " 'Burntwood': 1,\n",
       " 'Forest Heath': 1,\n",
       " 'Arun': 1,\n",
       " 'Basildon': 1,\n",
       " 'New Forest': 1,\n",
       " 'Newquay': 1,\n",
       " 'Strete': 1,\n",
       " '': 1,\n",
       " 'Ettingshall': 1,\n",
       " 'Exeter': 1,\n",
       " 'Warrington': 1,\n",
       " 'Tuckingmill': 1,\n",
       " 'Gedling': 1,\n",
       " 'Basford': 1,\n",
       " 'Horley': 1,\n",
       " 'Brighton': 1,\n",
       " 'Banbury': 1,\n",
       " 'Pipers Ash': 1,\n",
       " 'Westerleigh': 1,\n",
       " 'Lochawe': 1,\n",
       " 'Newton Abbot': 1,\n",
       " 'St Davids': 1,\n",
       " 'INVERNESS': 1,\n",
       " 'Maryport': 1,\n",
       " 'Cross Hands': 1,\n",
       " 'Buckland': 1,\n",
       " 'Loughborough': 1,\n",
       " 'Doncaster': 1,\n",
       " 'Pewsey': 1,\n",
       " 'Wigan': 1,\n",
       " 'Brechfa': 1,\n",
       " 'Wokingham': 1,\n",
       " 'Thatcham': 1,\n",
       " 'Lambourn': 1,\n",
       " 'Westhill': 1,\n",
       " 'Stroud': 1,\n",
       " 'Appletreewick': 1,\n",
       " 'Stevenage': 1,\n",
       " 'Burnley': 1,\n",
       " 'Crossgates': 1,\n",
       " 'Boston': 1,\n",
       " 'Chippenham': 1,\n",
       " 'Pontefract': 1,\n",
       " 'Newmarket': 1,\n",
       " 'NEWCASTLE UPON TYNE': 1,\n",
       " 'Dorset': 1,\n",
       " 'Stockport ': 1,\n",
       " 'Worthing': 1,\n",
       " 'Bromsgrove': 1,\n",
       " 'Poole': 1,\n",
       " 'Salisbury': 1,\n",
       " 'Trowbridge': 1,\n",
       " 'Hertsmere': 1,\n",
       " 'Cheltenham': 1,\n",
       " 'Stockton-on-Tees': 1,\n",
       " 'Retford': 1,\n",
       " 'Taunton': 1,\n",
       " 'Garforth': 1,\n",
       " 'Barnard Castle': 1,\n",
       " 'Theale': 1,\n",
       " 'York': 1,\n",
       " 'Leeds': 1,\n",
       " 'Thirsk': 1,\n",
       " 'Derby': 1,\n",
       " 'Wadhurst': 1,\n",
       " 'South Elmsall': 1,\n",
       " 'Wrockwardine': 1,\n",
       " 'Cannock Chase': 1,\n",
       " 'Bordon': 1,\n",
       " 'Grazeley Green': 1,\n",
       " 'Epping Forest': 1,\n",
       " 'Letchworth': 1,\n",
       " \"King's Lynn\": 1,\n",
       " 'Uny Lelant': 1,\n",
       " 'Malpas': 1,\n",
       " 'Blackpool': 1,\n",
       " 'Staffordshire': 1,\n",
       " 'Blyth': 1,\n",
       " 'Bristol': 1,\n",
       " 'Ludlow': 1,\n",
       " 'Charnwood': 1,\n",
       " 'Mold': 1,\n",
       " 'Filton': 1,\n",
       " 'Elton': 1,\n",
       " 'Wycombe': 1,\n",
       " 'Worcester': 1,\n",
       " 'Manchester': 1,\n",
       " 'Helmsley': 1,\n",
       " 'Malton': 1,\n",
       " 'Penrith': 1,\n",
       " 'City of Edinburgh': 1,\n",
       " 'Wealden': 1,\n",
       " 'Southampton': 1,\n",
       " 'Coupar Angus': 1,\n",
       " 'Landford': 1,\n",
       " 'Bainsford': 1,\n",
       " 'Edinburgh': 1,\n",
       " 'Midlothain': 1,\n",
       " 'Motherwell': 1,\n",
       " 'Kilmarnock': 1,\n",
       " 'Northumberland': 1,\n",
       " 'Hebburn': 1,\n",
       " 'Jarrow': 1,\n",
       " 'East Boldon': 1}"
      ]
     },
     "execution_count": 13,
     "metadata": {},
     "output_type": "execute_result"
    }
   ],
   "source": [
    "# from a (not at all random) sample of 200 entries, how are UK cities represented?\n",
    "\n",
    "dict(sorted(city_freq_dict.items(), key=lambda item: item[1], reverse = True))\n"
   ]
  },
  {
   "cell_type": "code",
   "execution_count": null,
   "metadata": {},
   "outputs": [],
   "source": []
  }
 ],
 "metadata": {
  "kernelspec": {
   "display_name": "Python 3",
   "language": "python",
   "name": "python3"
  },
  "language_info": {
   "codemirror_mode": {
    "name": "ipython",
    "version": 3
   },
   "file_extension": ".py",
   "mimetype": "text/x-python",
   "name": "python",
   "nbconvert_exporter": "python",
   "pygments_lexer": "ipython3",
   "version": "3.7.9"
  }
 },
 "nbformat": 4,
 "nbformat_minor": 4
}